{
 "cells": [
  {
   "cell_type": "code",
   "execution_count": 1,
   "metadata": {},
   "outputs": [],
   "source": [
    "import numpy as np\n",
    "import matplotlib.pyplot as plt\n",
    "plt.rcParams[\"figure.figsize\"] = (16,12)\n",
    "import pandas as pd\n",
    "import math\n",
    "from keras.models import Sequential\n",
    "from keras.layers import Dense\n",
    "from keras.layers import LSTM\n",
    "from sklearn.preprocessing import MinMaxScaler\n",
    "from sklearn.metrics import mean_absolute_percentage_error, mean_squared_error"
   ]
  },
  {
   "cell_type": "code",
   "execution_count": 2,
   "metadata": {},
   "outputs": [],
   "source": [
    "def create_dataset(dataset, look_back=1):\n",
    "\tdataX, dataY = [], []\n",
    "\tfor i in range(len(dataset)-look_back-1):\n",
    "\t\ta = dataset[i:(i+look_back), 0]\n",
    "\t\tdataX.append(a)\n",
    "\t\tdataY.append(dataset[i + look_back, 0])\n",
    "\treturn np.array(dataX), np.array(dataY)"
   ]
  },
  {
   "cell_type": "code",
   "execution_count": 3,
   "metadata": {},
   "outputs": [],
   "source": [
    "np.random.seed(5)"
   ]
  },
  {
   "cell_type": "code",
   "execution_count": 4,
   "metadata": {},
   "outputs": [],
   "source": [
    "DATASET = \"cebollas.csv\"\n",
    "CROP = \"CEBOLLA CABEZA BLANCA NACIONAL\""
   ]
  },
  {
   "cell_type": "code",
   "execution_count": 5,
   "metadata": {},
   "outputs": [
    {
     "data": {
      "text/plain": [
       "0      0.935161\n",
       "1      1.120645\n",
       "2      1.411071\n",
       "3      1.810968\n",
       "4      2.003667\n",
       "         ...   \n",
       "96     0.900968\n",
       "97     0.946774\n",
       "98     1.044444\n",
       "99     1.469032\n",
       "100    1.814667\n",
       "Name: precio_mean, Length: 101, dtype: float64"
      ]
     },
     "execution_count": 5,
     "metadata": {},
     "output_type": "execute_result"
    }
   ],
   "source": [
    "data = pd.read_csv('../Data/'+DATASET, engine='python')\n",
    "data = data[data.producto == CROP][\"precio_mean\"]\n",
    "data"
   ]
  },
  {
   "cell_type": "code",
   "execution_count": 6,
   "metadata": {},
   "outputs": [
    {
     "data": {
      "text/plain": [
       "array([0.9351613 , 1.1206452 , 1.4110714 , 1.8109677 , 2.0036666 ,\n",
       "       2.8248386 , 2.3646667 , 2.405     , 1.4606452 , 1.4606667 ,\n",
       "       1.0964516 , 0.7416667 , 0.58064514, 0.5825806 , 0.6667857 ,\n",
       "       0.7664516 , 1.6803334 , 2.042258  , 1.9103333 , 2.0896773 ,\n",
       "       1.8306452 , 1.6853334 , 1.2183871 , 0.998     , 0.91774195,\n",
       "       0.88387096, 0.9541379 , 1.1119355 , 1.6593333 , 2.0467741 ,\n",
       "       2.14      , 1.3222581 , 1.2245162 , 1.0973333 , 1.0283871 ,\n",
       "       0.984     , 0.7529032 , 0.7219355 , 0.9103571 , 1.78      ,\n",
       "       1.9756666 , 1.6790322 , 1.4113333 , 1.38      , 1.2712903 ,\n",
       "       1.0126667 , 0.9232258 , 0.8746667 , 0.9303226 , 0.9706452 ,\n",
       "       0.7664286 , 0.8316129 , 0.96566665, 1.1067742 , 1.354     ,\n",
       "       1.3841935 , 1.4029032 , 1.385     , 1.2903225 , 1.2843333 ,\n",
       "       1.0380645 , 0.90967745, 0.9096429 , 1.2364516 , 2.3496666 ,\n",
       "       2.3945162 , 2.207     , 1.7380645 , 1.5403225 , 1.2046666 ,\n",
       "       0.8845161 , 0.712     , 0.5793548 , 0.55096775, 0.582069  ,\n",
       "       0.99741936, 1.5291667 , 1.5461539 , 1.5265385 , 1.4974194 ,\n",
       "       1.4978571 , 1.6021428 , 1.4935484 , 1.3436667 , 1.3693548 ,\n",
       "       1.35      , 1.35      , 1.382258  , 1.45      , 1.5651613 ,\n",
       "       1.6493334 , 1.4429033 , 1.176129  , 1.1253333 , 1.1480645 ,\n",
       "       1.0566666 , 0.9009677 , 0.9467742 , 1.0444444 , 1.4690323 ,\n",
       "       1.8146666 ], dtype=float32)"
      ]
     },
     "execution_count": 6,
     "metadata": {},
     "output_type": "execute_result"
    }
   ],
   "source": [
    "dataset = data.values\n",
    "dataset = dataset.astype('float32')\n",
    "dataset"
   ]
  },
  {
   "cell_type": "code",
   "execution_count": 7,
   "metadata": {},
   "outputs": [
    {
     "data": {
      "text/plain": [
       "array([[0.16896012],\n",
       "       [0.25053197],\n",
       "       [0.37825528],\n",
       "       [0.55412114],\n",
       "       [0.63886595],\n",
       "       [1.        ],\n",
       "       [0.79762614],\n",
       "       [0.8153639 ],\n",
       "       [0.40005675],\n",
       "       [0.40006617],\n",
       "       [0.23989218],\n",
       "       [0.08386531],\n",
       "       [0.01305148],\n",
       "       [0.01390266],\n",
       "       [0.05093426],\n",
       "       [0.09476519],\n",
       "       [0.49667093],\n",
       "       [0.65583766],\n",
       "       [0.5978199 ],\n",
       "       [0.67669165],\n",
       "       [0.5627749 ],\n",
       "       [0.4988698 ],\n",
       "       [0.29351678],\n",
       "       [0.19659525],\n",
       "       [0.16129947],\n",
       "       [0.14640373],\n",
       "       [0.17730564],\n",
       "       [0.24670166],\n",
       "       [0.48743555],\n",
       "       [0.6578238 ],\n",
       "       [0.6988225 ],\n",
       "       [0.33919707],\n",
       "       [0.29621223],\n",
       "       [0.24027991],\n",
       "       [0.20995882],\n",
       "       [0.19043836],\n",
       "       [0.0888069 ],\n",
       "       [0.07518798],\n",
       "       [0.15805179],\n",
       "       [0.5405022 ],\n",
       "       [0.6265522 ],\n",
       "       [0.49609873],\n",
       "       [0.37837043],\n",
       "       [0.36459073],\n",
       "       [0.3167825 ],\n",
       "       [0.20304534],\n",
       "       [0.16371116],\n",
       "       [0.14235589],\n",
       "       [0.16683218],\n",
       "       [0.18456519],\n",
       "       [0.09475508],\n",
       "       [0.12342173],\n",
       "       [0.18237573],\n",
       "       [0.24443182],\n",
       "       [0.35315648],\n",
       "       [0.36643496],\n",
       "       [0.37466303],\n",
       "       [0.3667896 ],\n",
       "       [0.3251525 ],\n",
       "       [0.32251856],\n",
       "       [0.21421474],\n",
       "       [0.15775287],\n",
       "       [0.15773767],\n",
       "       [0.3014612 ],\n",
       "       [0.79102945],\n",
       "       [0.81075335],\n",
       "       [0.7282877 ],\n",
       "       [0.5220598 ],\n",
       "       [0.43509713],\n",
       "       [0.28748283],\n",
       "       [0.14668745],\n",
       "       [0.07081854],\n",
       "       [0.01248401],\n",
       "       [0.        ],\n",
       "       [0.01367766],\n",
       "       [0.1963399 ],\n",
       "       [0.43019107],\n",
       "       [0.43766168],\n",
       "       [0.42903522],\n",
       "       [0.41622922],\n",
       "       [0.41642174],\n",
       "       [0.46228436],\n",
       "       [0.41452685],\n",
       "       [0.3486121 ],\n",
       "       [0.3599092 ],\n",
       "       [0.35139737],\n",
       "       [0.35139737],\n",
       "       [0.36558375],\n",
       "       [0.39537522],\n",
       "       [0.4460207 ],\n",
       "       [0.4830378 ],\n",
       "       [0.3922542 ],\n",
       "       [0.2749326 ],\n",
       "       [0.25259373],\n",
       "       [0.26259044],\n",
       "       [0.22239557],\n",
       "       [0.15392253],\n",
       "       [0.17406723],\n",
       "       [0.21702051],\n",
       "       [0.4037452 ],\n",
       "       [0.55574787]], dtype=float32)"
      ]
     },
     "execution_count": 7,
     "metadata": {},
     "output_type": "execute_result"
    }
   ],
   "source": [
    "scaler = MinMaxScaler(feature_range=(0, 1))\n",
    "dataset = scaler.fit_transform(dataset.reshape(-1,1))\n",
    "dataset"
   ]
  },
  {
   "cell_type": "code",
   "execution_count": 8,
   "metadata": {},
   "outputs": [],
   "source": [
    "train = dataset[0:int(dataset.shape[0]*0.8),:]\n",
    "test = dataset[int(dataset.shape[0]*0.8):len(dataset),:]"
   ]
  },
  {
   "cell_type": "code",
   "execution_count": 9,
   "metadata": {},
   "outputs": [],
   "source": [
    "time_steps = 3\n",
    "n_features = 1\n",
    "n_epochs = 100"
   ]
  },
  {
   "cell_type": "code",
   "execution_count": 10,
   "metadata": {},
   "outputs": [],
   "source": [
    "trainX, trainY = create_dataset(train, time_steps)\n",
    "testX, testY = create_dataset(test, time_steps)"
   ]
  },
  {
   "cell_type": "code",
   "execution_count": 11,
   "metadata": {},
   "outputs": [],
   "source": [
    "trainX = np.reshape(trainX, (trainX.shape[0], trainX.shape[1], 1))\n",
    "testX = np.reshape(testX, (testX.shape[0], testX.shape[1], 1))"
   ]
  },
  {
   "cell_type": "code",
   "execution_count": 12,
   "metadata": {},
   "outputs": [
    {
     "name": "stderr",
     "output_type": "stream",
     "text": [
      "2022-06-25 18:44:59.597681: I tensorflow/core/platform/cpu_feature_guard.cc:193] This TensorFlow binary is optimized with oneAPI Deep Neural Network Library (oneDNN) to use the following CPU instructions in performance-critical operations:  AVX2 FMA\n",
      "To enable them in other operations, rebuild TensorFlow with the appropriate compiler flags.\n"
     ]
    },
    {
     "name": "stdout",
     "output_type": "stream",
     "text": [
      "Epoch 1/100\n",
      "76/76 - 1s - loss: 0.1316 - 1s/epoch - 18ms/step\n",
      "Epoch 2/100\n",
      "76/76 - 0s - loss: 0.0621 - 94ms/epoch - 1ms/step\n",
      "Epoch 3/100\n",
      "76/76 - 0s - loss: 0.0480 - 124ms/epoch - 2ms/step\n",
      "Epoch 4/100\n",
      "76/76 - 0s - loss: 0.0448 - 115ms/epoch - 2ms/step\n",
      "Epoch 5/100\n",
      "76/76 - 0s - loss: 0.0434 - 113ms/epoch - 1ms/step\n",
      "Epoch 6/100\n",
      "76/76 - 0s - loss: 0.0426 - 116ms/epoch - 2ms/step\n",
      "Epoch 7/100\n",
      "76/76 - 0s - loss: 0.0413 - 116ms/epoch - 2ms/step\n",
      "Epoch 8/100\n",
      "76/76 - 0s - loss: 0.0419 - 115ms/epoch - 2ms/step\n",
      "Epoch 9/100\n",
      "76/76 - 0s - loss: 0.0395 - 107ms/epoch - 1ms/step\n",
      "Epoch 10/100\n",
      "76/76 - 0s - loss: 0.0391 - 113ms/epoch - 1ms/step\n",
      "Epoch 11/100\n",
      "76/76 - 0s - loss: 0.0384 - 105ms/epoch - 1ms/step\n",
      "Epoch 12/100\n",
      "76/76 - 0s - loss: 0.0377 - 91ms/epoch - 1ms/step\n",
      "Epoch 13/100\n",
      "76/76 - 0s - loss: 0.0371 - 103ms/epoch - 1ms/step\n",
      "Epoch 14/100\n",
      "76/76 - 0s - loss: 0.0367 - 86ms/epoch - 1ms/step\n",
      "Epoch 15/100\n",
      "76/76 - 0s - loss: 0.0361 - 98ms/epoch - 1ms/step\n",
      "Epoch 16/100\n",
      "76/76 - 0s - loss: 0.0360 - 88ms/epoch - 1ms/step\n",
      "Epoch 17/100\n",
      "76/76 - 0s - loss: 0.0351 - 84ms/epoch - 1ms/step\n",
      "Epoch 18/100\n",
      "76/76 - 0s - loss: 0.0348 - 89ms/epoch - 1ms/step\n",
      "Epoch 19/100\n",
      "76/76 - 0s - loss: 0.0342 - 83ms/epoch - 1ms/step\n",
      "Epoch 20/100\n",
      "76/76 - 0s - loss: 0.0340 - 87ms/epoch - 1ms/step\n",
      "Epoch 21/100\n",
      "76/76 - 0s - loss: 0.0335 - 88ms/epoch - 1ms/step\n",
      "Epoch 22/100\n",
      "76/76 - 0s - loss: 0.0330 - 88ms/epoch - 1ms/step\n",
      "Epoch 23/100\n",
      "76/76 - 0s - loss: 0.0328 - 85ms/epoch - 1ms/step\n",
      "Epoch 24/100\n",
      "76/76 - 0s - loss: 0.0323 - 84ms/epoch - 1ms/step\n",
      "Epoch 25/100\n",
      "76/76 - 0s - loss: 0.0321 - 85ms/epoch - 1ms/step\n",
      "Epoch 26/100\n",
      "76/76 - 0s - loss: 0.0319 - 85ms/epoch - 1ms/step\n",
      "Epoch 27/100\n",
      "76/76 - 0s - loss: 0.0310 - 85ms/epoch - 1ms/step\n",
      "Epoch 28/100\n",
      "76/76 - 0s - loss: 0.0306 - 86ms/epoch - 1ms/step\n",
      "Epoch 29/100\n",
      "76/76 - 0s - loss: 0.0304 - 108ms/epoch - 1ms/step\n",
      "Epoch 30/100\n",
      "76/76 - 0s - loss: 0.0303 - 91ms/epoch - 1ms/step\n",
      "Epoch 31/100\n",
      "76/76 - 0s - loss: 0.0293 - 89ms/epoch - 1ms/step\n",
      "Epoch 32/100\n",
      "76/76 - 0s - loss: 0.0289 - 84ms/epoch - 1ms/step\n",
      "Epoch 33/100\n",
      "76/76 - 0s - loss: 0.0285 - 81ms/epoch - 1ms/step\n",
      "Epoch 34/100\n",
      "76/76 - 0s - loss: 0.0281 - 86ms/epoch - 1ms/step\n",
      "Epoch 35/100\n",
      "76/76 - 0s - loss: 0.0275 - 86ms/epoch - 1ms/step\n",
      "Epoch 36/100\n",
      "76/76 - 0s - loss: 0.0274 - 88ms/epoch - 1ms/step\n",
      "Epoch 37/100\n",
      "76/76 - 0s - loss: 0.0266 - 86ms/epoch - 1ms/step\n",
      "Epoch 38/100\n",
      "76/76 - 0s - loss: 0.0261 - 85ms/epoch - 1ms/step\n",
      "Epoch 39/100\n",
      "76/76 - 0s - loss: 0.0262 - 85ms/epoch - 1ms/step\n",
      "Epoch 40/100\n",
      "76/76 - 0s - loss: 0.0254 - 84ms/epoch - 1ms/step\n",
      "Epoch 41/100\n",
      "76/76 - 0s - loss: 0.0249 - 94ms/epoch - 1ms/step\n",
      "Epoch 42/100\n",
      "76/76 - 0s - loss: 0.0246 - 84ms/epoch - 1ms/step\n",
      "Epoch 43/100\n",
      "76/76 - 0s - loss: 0.0242 - 87ms/epoch - 1ms/step\n",
      "Epoch 44/100\n",
      "76/76 - 0s - loss: 0.0235 - 84ms/epoch - 1ms/step\n",
      "Epoch 45/100\n",
      "76/76 - 0s - loss: 0.0233 - 87ms/epoch - 1ms/step\n",
      "Epoch 46/100\n",
      "76/76 - 0s - loss: 0.0227 - 89ms/epoch - 1ms/step\n",
      "Epoch 47/100\n",
      "76/76 - 0s - loss: 0.0223 - 85ms/epoch - 1ms/step\n",
      "Epoch 48/100\n",
      "76/76 - 0s - loss: 0.0220 - 85ms/epoch - 1ms/step\n",
      "Epoch 49/100\n",
      "76/76 - 0s - loss: 0.0216 - 83ms/epoch - 1ms/step\n",
      "Epoch 50/100\n",
      "76/76 - 0s - loss: 0.0213 - 86ms/epoch - 1ms/step\n",
      "Epoch 51/100\n",
      "76/76 - 0s - loss: 0.0209 - 94ms/epoch - 1ms/step\n",
      "Epoch 52/100\n",
      "76/76 - 0s - loss: 0.0203 - 83ms/epoch - 1ms/step\n",
      "Epoch 53/100\n",
      "76/76 - 0s - loss: 0.0202 - 87ms/epoch - 1ms/step\n",
      "Epoch 54/100\n",
      "76/76 - 0s - loss: 0.0200 - 86ms/epoch - 1ms/step\n",
      "Epoch 55/100\n",
      "76/76 - 0s - loss: 0.0193 - 83ms/epoch - 1ms/step\n",
      "Epoch 56/100\n",
      "76/76 - 0s - loss: 0.0198 - 94ms/epoch - 1ms/step\n",
      "Epoch 57/100\n",
      "76/76 - 0s - loss: 0.0189 - 86ms/epoch - 1ms/step\n",
      "Epoch 58/100\n",
      "76/76 - 0s - loss: 0.0190 - 85ms/epoch - 1ms/step\n",
      "Epoch 59/100\n",
      "76/76 - 0s - loss: 0.0185 - 89ms/epoch - 1ms/step\n",
      "Epoch 60/100\n",
      "76/76 - 0s - loss: 0.0183 - 87ms/epoch - 1ms/step\n",
      "Epoch 61/100\n",
      "76/76 - 0s - loss: 0.0177 - 84ms/epoch - 1ms/step\n",
      "Epoch 62/100\n",
      "76/76 - 0s - loss: 0.0175 - 85ms/epoch - 1ms/step\n",
      "Epoch 63/100\n",
      "76/76 - 0s - loss: 0.0173 - 84ms/epoch - 1ms/step\n",
      "Epoch 64/100\n",
      "76/76 - 0s - loss: 0.0172 - 83ms/epoch - 1ms/step\n",
      "Epoch 65/100\n",
      "76/76 - 0s - loss: 0.0171 - 90ms/epoch - 1ms/step\n",
      "Epoch 66/100\n",
      "76/76 - 0s - loss: 0.0169 - 86ms/epoch - 1ms/step\n",
      "Epoch 67/100\n",
      "76/76 - 0s - loss: 0.0167 - 84ms/epoch - 1ms/step\n",
      "Epoch 68/100\n",
      "76/76 - 0s - loss: 0.0162 - 85ms/epoch - 1ms/step\n",
      "Epoch 69/100\n",
      "76/76 - 0s - loss: 0.0161 - 86ms/epoch - 1ms/step\n",
      "Epoch 70/100\n",
      "76/76 - 0s - loss: 0.0159 - 86ms/epoch - 1ms/step\n",
      "Epoch 71/100\n",
      "76/76 - 0s - loss: 0.0156 - 84ms/epoch - 1ms/step\n",
      "Epoch 72/100\n",
      "76/76 - 0s - loss: 0.0158 - 84ms/epoch - 1ms/step\n",
      "Epoch 73/100\n",
      "76/76 - 0s - loss: 0.0154 - 88ms/epoch - 1ms/step\n",
      "Epoch 74/100\n",
      "76/76 - 0s - loss: 0.0156 - 87ms/epoch - 1ms/step\n",
      "Epoch 75/100\n",
      "76/76 - 0s - loss: 0.0152 - 87ms/epoch - 1ms/step\n",
      "Epoch 76/100\n",
      "76/76 - 0s - loss: 0.0149 - 85ms/epoch - 1ms/step\n",
      "Epoch 77/100\n",
      "76/76 - 0s - loss: 0.0153 - 84ms/epoch - 1ms/step\n",
      "Epoch 78/100\n",
      "76/76 - 0s - loss: 0.0151 - 84ms/epoch - 1ms/step\n",
      "Epoch 79/100\n",
      "76/76 - 0s - loss: 0.0148 - 84ms/epoch - 1ms/step\n",
      "Epoch 80/100\n",
      "76/76 - 0s - loss: 0.0146 - 90ms/epoch - 1ms/step\n",
      "Epoch 81/100\n",
      "76/76 - 0s - loss: 0.0144 - 86ms/epoch - 1ms/step\n",
      "Epoch 82/100\n",
      "76/76 - 0s - loss: 0.0143 - 86ms/epoch - 1ms/step\n",
      "Epoch 83/100\n",
      "76/76 - 0s - loss: 0.0142 - 88ms/epoch - 1ms/step\n",
      "Epoch 84/100\n",
      "76/76 - 0s - loss: 0.0141 - 88ms/epoch - 1ms/step\n",
      "Epoch 85/100\n",
      "76/76 - 0s - loss: 0.0139 - 84ms/epoch - 1ms/step\n",
      "Epoch 86/100\n",
      "76/76 - 0s - loss: 0.0140 - 84ms/epoch - 1ms/step\n",
      "Epoch 87/100\n",
      "76/76 - 0s - loss: 0.0140 - 87ms/epoch - 1ms/step\n",
      "Epoch 88/100\n",
      "76/76 - 0s - loss: 0.0136 - 88ms/epoch - 1ms/step\n",
      "Epoch 89/100\n",
      "76/76 - 0s - loss: 0.0136 - 86ms/epoch - 1ms/step\n",
      "Epoch 90/100\n",
      "76/76 - 0s - loss: 0.0136 - 86ms/epoch - 1ms/step\n",
      "Epoch 91/100\n",
      "76/76 - 0s - loss: 0.0135 - 83ms/epoch - 1ms/step\n",
      "Epoch 92/100\n",
      "76/76 - 0s - loss: 0.0136 - 84ms/epoch - 1ms/step\n",
      "Epoch 93/100\n",
      "76/76 - 0s - loss: 0.0133 - 86ms/epoch - 1ms/step\n",
      "Epoch 94/100\n",
      "76/76 - 0s - loss: 0.0138 - 85ms/epoch - 1ms/step\n",
      "Epoch 95/100\n",
      "76/76 - 0s - loss: 0.0135 - 85ms/epoch - 1ms/step\n",
      "Epoch 96/100\n",
      "76/76 - 0s - loss: 0.0134 - 86ms/epoch - 1ms/step\n",
      "Epoch 97/100\n",
      "76/76 - 0s - loss: 0.0131 - 97ms/epoch - 1ms/step\n",
      "Epoch 98/100\n",
      "76/76 - 0s - loss: 0.0134 - 88ms/epoch - 1ms/step\n",
      "Epoch 99/100\n",
      "76/76 - 0s - loss: 0.0141 - 85ms/epoch - 1ms/step\n",
      "Epoch 100/100\n",
      "76/76 - 0s - loss: 0.0129 - 86ms/epoch - 1ms/step\n"
     ]
    },
    {
     "data": {
      "text/plain": [
       "<keras.callbacks.History at 0x15a87bac0>"
      ]
     },
     "execution_count": 12,
     "metadata": {},
     "output_type": "execute_result"
    }
   ],
   "source": [
    "model = Sequential()\n",
    "model.add(LSTM(4, input_shape=(time_steps, 1)))\n",
    "model.add(Dense(1))\n",
    "model.compile(loss='mean_squared_error', optimizer='adam')\n",
    "model.fit(trainX, trainY, epochs=100, batch_size=1, verbose=2)"
   ]
  },
  {
   "cell_type": "code",
   "execution_count": 13,
   "metadata": {},
   "outputs": [
    {
     "data": {
      "text/plain": [
       "[<matplotlib.lines.Line2D at 0x15ad79ee0>]"
      ]
     },
     "execution_count": 13,
     "metadata": {},
     "output_type": "execute_result"
    },
    {
     "data": {
      "image/png": "[encoded data removed]",
      "text/plain": [
       "<Figure size 432x288 with 1 Axes>"
      ]
     },
     "metadata": {
      "needs_background": "light"
     },
     "output_type": "display_data"
    }
   ],
   "source": [
    "loss_per_epoch = model.history.history['loss']\n",
    "plt.plot(range(len(loss_per_epoch)),loss_per_epoch)"
   ]
  },
  {
   "cell_type": "code",
   "execution_count": 14,
   "metadata": {},
   "outputs": [
    {
     "name": "stdout",
     "output_type": "stream",
     "text": [
      "3/3 [==============================] - 0s 2ms/step\n",
      "1/1 [==============================] - 0s 14ms/step\n"
     ]
    }
   ],
   "source": [
    "# make predictions\n",
    "trainPredict = model.predict(trainX)\n",
    "testPredict = model.predict(testX)"
   ]
  },
  {
   "cell_type": "code",
   "execution_count": 15,
   "metadata": {},
   "outputs": [],
   "source": [
    "# invert predictions\n",
    "trainPredict = scaler.inverse_transform(trainPredict)\n",
    "trainY = scaler.inverse_transform([trainY])\n",
    "testPredict = scaler.inverse_transform(testPredict)\n",
    "testY = scaler.inverse_transform([testY])\n"
   ]
  },
  {
   "cell_type": "code",
   "execution_count": 16,
   "metadata": {},
   "outputs": [
    {
     "name": "stdout",
     "output_type": "stream",
     "text": [
      "Train Score: 0.15 MAPE\n",
      "Test Score: 0.08 MAPE\n"
     ]
    }
   ],
   "source": [
    "# calculate root mean squared error\n",
    "trainScore = mean_absolute_percentage_error(trainY[0], trainPredict[:,0])\n",
    "print('Train Score: %.2f MAPE' % (trainScore))\n",
    "testScore = mean_absolute_percentage_error(testY[0], testPredict[:,0])\n",
    "print('Test Score: %.2f MAPE' % (testScore))"
   ]
  },
  {
   "cell_type": "code",
   "execution_count": 17,
   "metadata": {},
   "outputs": [
    {
     "data": {
      "image/png": "[encoded data removed]",
      "text/plain": [
       "<Figure size 432x288 with 1 Axes>"
      ]
     },
     "metadata": {
      "needs_background": "light"
     },
     "output_type": "display_data"
    }
   ],
   "source": [
    "trainPredictPlot = np.empty_like(dataset)\n",
    "trainPredictPlot[:, :] = np.nan\n",
    "trainPredictPlot[time_steps:len(trainPredict)+time_steps, :] = trainPredict\n",
    "\n",
    "testPredictPlot = np.empty_like(dataset)\n",
    "testPredictPlot[:, :] = np.nan\n",
    "testPredictPlot[len(trainPredict)+(time_steps*2)+1:len(dataset)-1, :] = testPredict\n",
    "\n",
    "plt.plot(scaler.inverse_transform(dataset))\n",
    "plt.plot(trainPredictPlot)\n",
    "plt.plot(testPredictPlot)\n",
    "plt.show()"
   ]
  }
 ],
 "metadata": {
  "kernelspec": {
   "display_name": "Python 3.10.0 64-bit",
   "language": "python",
   "name": "python3"
  },
  "language_info": {
   "codemirror_mode": {
    "name": "ipython",
    "version": 3
   },
   "file_extension": ".py",
   "mimetype": "text/x-python",
   "name": "python",
   "nbconvert_exporter": "python",
   "pygments_lexer": "ipython3",
   "version": "3.10.0"
  },
  "orig_nbformat": 4,
  "vscode": {
   "interpreter": {
    "hash": "8a2ab109794a070699f2cf1318c48d233f9779cbb0346dfb8c7ef0e163b30073"
   }
  }
 },
 "nbformat": 4,
 "nbformat_minor": 2
}
