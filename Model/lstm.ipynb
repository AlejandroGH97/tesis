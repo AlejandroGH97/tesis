{
 "cells": [
  {
   "cell_type": "code",
   "execution_count": 245,
   "metadata": {},
   "outputs": [],
   "source": [
    "import numpy as np\n",
    "import matplotlib.pyplot as plt\n",
    "import pandas as pd\n",
    "import math\n",
    "from statsmodels.tsa.seasonal import STL\n",
    "from keras.preprocessing.sequence import TimeseriesGenerator\n",
    "from keras.models import Sequential\n",
    "from keras.layers import Dense\n",
    "from keras.layers import LSTM\n",
    "from sklearn.preprocessing import MinMaxScaler\n",
    "from sklearn.metrics import mean_absolute_percentage_error, mean_squared_error"
   ]
  },
  {
   "cell_type": "code",
   "execution_count": 334,
   "metadata": {},
   "outputs": [],
   "source": [
    "def create_dataset(dataset, look_back=1):\n",
    "\tdataX, dataY = [], []\n",
    "\tfor i in range(len(dataset)-look_back-1):\n",
    "\t\ta = dataset[i:(i+look_back), 0]\n",
    "\t\tdataX.append(a)\n",
    "\t\tdataY.append(dataset[i + look_back, 0])\n",
    "\treturn np.array(dataX), np.array(dataY)"
   ]
  },
  {
   "cell_type": "code",
   "execution_count": 246,
   "metadata": {},
   "outputs": [],
   "source": [
    "np.random.seed(5)"
   ]
  },
  {
   "cell_type": "code",
   "execution_count": 247,
   "metadata": {},
   "outputs": [],
   "source": [
    "DATASET = \"cebollas.csv\"\n",
    "CROP = \"CEBOLLA CABEZA ROJA/MAJ/TAMB/LOC/CAM/MIL\""
   ]
  },
  {
   "cell_type": "code",
   "execution_count": 336,
   "metadata": {},
   "outputs": [],
   "source": [
    "data = pd.read_csv('../Data/'+DATASET, engine='python')\n",
    "data = data[data.producto == CROP][\"precio_mean\"]"
   ]
  },
  {
   "cell_type": "code",
   "execution_count": 341,
   "metadata": {},
   "outputs": [
    {
     "data": {
      "text/plain": [
       "array([0.4512903 , 0.56709677, 0.58607143, 1.1641935 , 1.557     ,\n",
       "       1.9929032 , 1.7593334 , 1.8751613 , 1.5596774 , 1.1063334 ,\n",
       "       1.0403225 , 0.6423333 , 0.65032256, 0.734     , 0.9882143 ,\n",
       "       0.93935484, 1.041     , 1.2916129 , 1.7043333 , 1.7967741 ,\n",
       "       2.6658065 , 2.2493334 , 1.422258  , 0.75166667, 0.6719355 ,\n",
       "       0.93741935, 0.7631034 , 0.8719355 , 1.059     , 1.1467742 ,\n",
       "       1.2113333 , 0.81419355, 0.56903225, 0.5426667 , 0.59451616,\n",
       "       0.5883333 , 0.7551613 , 1.0106452 , 0.94535714, 1.6890323 ,\n",
       "       2.0423334 , 1.6893549 , 1.41      , 1.3629032 , 1.5016129 ,\n",
       "       1.5306667 , 0.9758065 , 0.8663333 , 0.82709676, 0.79129034,\n",
       "       0.72821426, 0.8016129 , 0.7303333 , 0.6383871 , 0.889     ,\n",
       "       0.9677419 , 0.92451614, 1.2946666 , 1.7948387 , 2.265     ,\n",
       "       2.1361291 , 1.5487096 , 1.5014286 , 1.5083871 , 2.049     ,\n",
       "       1.7048388 , 1.7846667 , 1.5503225 , 1.5164516 , 0.9343333 ,\n",
       "       0.7732258 , 0.63633335, 0.63548386, 0.6122581 , 0.68344826,\n",
       "       1.273871  , 1.63625   , 1.6338462 , 1.5888462 , 1.2590322 ,\n",
       "       1.0839286 , 1.1714286 , 1.1025807 , 0.9073333 , 0.8816129 ,\n",
       "       0.8729032 , 0.9367857 , 1.0280645 , 0.9533333 , 0.7745161 ,\n",
       "       0.8986667 , 0.83387095, 0.9703226 , 1.417     , 1.3909677 ,\n",
       "       1.2826667 , 1.1403226 , 1.142258  , 1.1185185 , 1.2651613 ,\n",
       "       1.6513333 ], dtype=float32)"
      ]
     },
     "execution_count": 341,
     "metadata": {},
     "output_type": "execute_result"
    }
   ],
   "source": [
    "dataset = data.values\n",
    "dataset = dataset.astype('float32')\n",
    "dataset"
   ]
  },
  {
   "cell_type": "code",
   "execution_count": 342,
   "metadata": {},
   "outputs": [
    {
     "data": {
      "text/plain": [
       "array([[0.        ],\n",
       "       [0.05229425],\n",
       "       [0.06086257],\n",
       "       [0.32192278],\n",
       "       [0.49930084],\n",
       "       [0.6961399 ],\n",
       "       [0.59066767],\n",
       "       [0.64297163],\n",
       "       [0.5005098 ],\n",
       "       [0.2957951 ],\n",
       "       [0.2659869 ],\n",
       "       [0.08626851],\n",
       "       [0.08987617],\n",
       "       [0.12766206],\n",
       "       [0.24245659],\n",
       "       [0.2203933 ],\n",
       "       [0.2662928 ],\n",
       "       [0.37946105],\n",
       "       [0.56583154],\n",
       "       [0.60757464],\n",
       "       [1.        ],\n",
       "       [0.81193495],\n",
       "       [0.43845594],\n",
       "       [0.13563973],\n",
       "       [0.09963584],\n",
       "       [0.21951932],\n",
       "       [0.14080417],\n",
       "       [0.18994904],\n",
       "       [0.27442098],\n",
       "       [0.3140568 ],\n",
       "       [0.3432095 ],\n",
       "       [0.16387475],\n",
       "       [0.05316824],\n",
       "       [0.04126245],\n",
       "       [0.0646759 ],\n",
       "       [0.06188396],\n",
       "       [0.13721776],\n",
       "       [0.2525856 ],\n",
       "       [0.22310373],\n",
       "       [0.5589221 ],\n",
       "       [0.7184608 ],\n",
       "       [0.5590678 ],\n",
       "       [0.43292063],\n",
       "       [0.41165334],\n",
       "       [0.4742899 ],\n",
       "       [0.4874096 ],\n",
       "       [0.23685363],\n",
       "       [0.18741927],\n",
       "       [0.1697014 ],\n",
       "       [0.15353242],\n",
       "       [0.12504941],\n",
       "       [0.15819374],\n",
       "       [0.1260063 ],\n",
       "       [0.08448651],\n",
       "       [0.19765478],\n",
       "       [0.23321193],\n",
       "       [0.21369267],\n",
       "       [0.38084   ],\n",
       "       [0.60670066],\n",
       "       [0.81900954],\n",
       "       [0.7608158 ],\n",
       "       [0.4955572 ],\n",
       "       [0.4742067 ],\n",
       "       [0.47734886],\n",
       "       [0.72147125],\n",
       "       [0.56605977],\n",
       "       [0.60210735],\n",
       "       [0.4962855 ],\n",
       "       [0.48099053],\n",
       "       [0.21812576],\n",
       "       [0.14537507],\n",
       "       [0.08355913],\n",
       "       [0.08317554],\n",
       "       [0.07268757],\n",
       "       [0.10483462],\n",
       "       [0.37144935],\n",
       "       [0.5350874 ],\n",
       "       [0.53400195],\n",
       "       [0.5136815 ],\n",
       "       [0.36474872],\n",
       "       [0.28567788],\n",
       "       [0.3251899 ],\n",
       "       [0.29410052],\n",
       "       [0.20593348],\n",
       "       [0.19431901],\n",
       "       [0.19038603],\n",
       "       [0.21923316],\n",
       "       [0.26045156],\n",
       "       [0.22670552],\n",
       "       [0.14595774],\n",
       "       [0.20201993],\n",
       "       [0.17276037],\n",
       "       [0.2343773 ],\n",
       "       [0.4360816 ],\n",
       "       [0.4243263 ],\n",
       "       [0.37542123],\n",
       "       [0.31114346],\n",
       "       [0.3120175 ],\n",
       "       [0.3012975 ],\n",
       "       [0.3675164 ],\n",
       "       [0.54189855]], dtype=float32)"
      ]
     },
     "execution_count": 342,
     "metadata": {},
     "output_type": "execute_result"
    }
   ],
   "source": [
    "scaler = MinMaxScaler(feature_range=(0, 1))\n",
    "dataset = scaler.fit_transform(dataset.reshape(-1,1))\n",
    "dataset"
   ]
  },
  {
   "cell_type": "code",
   "execution_count": 332,
   "metadata": {},
   "outputs": [
    {
     "ename": "ValueError",
     "evalue": "Expected 2D array, got 1D array instead:\narray=[0.45129032 0.56709677 0.58607143 1.16419355 1.557      1.99290323\n 1.75933333 1.87516129 1.55967742 1.10633333 1.04032258 0.64233333\n 0.65032258 0.734      0.98821429 0.93935484 1.041      1.2916129\n 1.70433333 1.79677419 2.66580645 2.24933333 1.42225806 0.75166667\n 0.67193548 0.93741935 0.76310345 0.87193548 1.059      1.14677419\n 1.21133333 0.81419355 0.56903226 0.54266667 0.59451613 0.58833333\n 0.75516129 1.01064516 0.94535714 1.68903226 2.04233333 1.68935484\n 1.41       1.36290323 1.5016129  1.53066667 0.97580645 0.86633333\n 0.82709677 0.79129032 0.72821429 0.8016129  0.73033333 0.6383871\n 0.889      0.96774194 0.92451613 1.29466667 1.79483871 2.265\n 2.13612903 1.54870968 1.50142857 1.5083871  2.049      1.70483871\n 1.78466667 1.55032258 1.51645161 0.93433333 0.77322581 0.63633333\n 0.63548387 0.61225806 0.68344828 1.27387097 1.63625    1.63384615\n 1.58884615 1.25903226 1.08392857 1.17142857 1.10258065 0.90733333\n 0.8816129  0.87290323 0.93678571 1.02806452 0.95333333 0.77451613\n 0.89866667 0.83387097 0.97032258 1.417      1.39096774 1.28266667\n 1.14032258 1.14225806 1.11851852 1.26516129 1.65133333].\nReshape your data either using array.reshape(-1, 1) if your data has a single feature or array.reshape(1, -1) if it contains a single sample.",
     "output_type": "error",
     "traceback": [
      "\u001b[0;31m---------------------------------------------------------------------------\u001b[0m",
      "\u001b[0;31mValueError\u001b[0m                                Traceback (most recent call last)",
      "\u001b[1;32m/Users/alejandrogoicochea/Documents/UTEC/tesis/Model/lstm.ipynb Cell 7'\u001b[0m in \u001b[0;36m<cell line: 2>\u001b[0;34m()\u001b[0m\n\u001b[1;32m      <a href='vscode-notebook-cell:/Users/alejandrogoicochea/Documents/UTEC/tesis/Model/lstm.ipynb#ch0000009?line=0'>1</a>\u001b[0m scaler \u001b[39m=\u001b[39m MinMaxScaler(feature_range\u001b[39m=\u001b[39m(\u001b[39m0\u001b[39m,\u001b[39m1\u001b[39m))\n\u001b[0;32m----> <a href='vscode-notebook-cell:/Users/alejandrogoicochea/Documents/UTEC/tesis/Model/lstm.ipynb#ch0000009?line=1'>2</a>\u001b[0m scaled_dataset \u001b[39m=\u001b[39m scaler\u001b[39m.\u001b[39;49mfit_transform(dataset)\n\u001b[1;32m      <a href='vscode-notebook-cell:/Users/alejandrogoicochea/Documents/UTEC/tesis/Model/lstm.ipynb#ch0000009?line=2'>3</a>\u001b[0m scaled_train \u001b[39m=\u001b[39m dataset\u001b[39m.\u001b[39miloc[:\u001b[39mint\u001b[39m(scaled_dataset\u001b[39m.\u001b[39mshape[\u001b[39m0\u001b[39m]\u001b[39m*\u001b[39m\u001b[39m0.8\u001b[39m)]\n\u001b[1;32m      <a href='vscode-notebook-cell:/Users/alejandrogoicochea/Documents/UTEC/tesis/Model/lstm.ipynb#ch0000009?line=3'>4</a>\u001b[0m scaled_test \u001b[39m=\u001b[39m dataset\u001b[39m.\u001b[39miloc[\u001b[39mint\u001b[39m(scaled_dataset\u001b[39m.\u001b[39mshape[\u001b[39m0\u001b[39m]\u001b[39m*\u001b[39m\u001b[39m0.8\u001b[39m):]\n",
      "File \u001b[0;32m~/Library/Python/3.8/lib/python/site-packages/sklearn/base.py:867\u001b[0m, in \u001b[0;36mTransformerMixin.fit_transform\u001b[0;34m(self, X, y, **fit_params)\u001b[0m\n\u001b[1;32m    863\u001b[0m \u001b[39m# non-optimized default implementation; override when a better\u001b[39;00m\n\u001b[1;32m    864\u001b[0m \u001b[39m# method is possible for a given clustering algorithm\u001b[39;00m\n\u001b[1;32m    865\u001b[0m \u001b[39mif\u001b[39;00m y \u001b[39mis\u001b[39;00m \u001b[39mNone\u001b[39;00m:\n\u001b[1;32m    866\u001b[0m     \u001b[39m# fit method of arity 1 (unsupervised transformation)\u001b[39;00m\n\u001b[0;32m--> 867\u001b[0m     \u001b[39mreturn\u001b[39;00m \u001b[39mself\u001b[39;49m\u001b[39m.\u001b[39;49mfit(X, \u001b[39m*\u001b[39;49m\u001b[39m*\u001b[39;49mfit_params)\u001b[39m.\u001b[39mtransform(X)\n\u001b[1;32m    868\u001b[0m \u001b[39melse\u001b[39;00m:\n\u001b[1;32m    869\u001b[0m     \u001b[39m# fit method of arity 2 (supervised transformation)\u001b[39;00m\n\u001b[1;32m    870\u001b[0m     \u001b[39mreturn\u001b[39;00m \u001b[39mself\u001b[39m\u001b[39m.\u001b[39mfit(X, y, \u001b[39m*\u001b[39m\u001b[39m*\u001b[39mfit_params)\u001b[39m.\u001b[39mtransform(X)\n",
      "File \u001b[0;32m~/Library/Python/3.8/lib/python/site-packages/sklearn/preprocessing/_data.py:420\u001b[0m, in \u001b[0;36mMinMaxScaler.fit\u001b[0;34m(self, X, y)\u001b[0m\n\u001b[1;32m    418\u001b[0m \u001b[39m# Reset internal state before fitting\u001b[39;00m\n\u001b[1;32m    419\u001b[0m \u001b[39mself\u001b[39m\u001b[39m.\u001b[39m_reset()\n\u001b[0;32m--> 420\u001b[0m \u001b[39mreturn\u001b[39;00m \u001b[39mself\u001b[39;49m\u001b[39m.\u001b[39;49mpartial_fit(X, y)\n",
      "File \u001b[0;32m~/Library/Python/3.8/lib/python/site-packages/sklearn/preprocessing/_data.py:457\u001b[0m, in \u001b[0;36mMinMaxScaler.partial_fit\u001b[0;34m(self, X, y)\u001b[0m\n\u001b[1;32m    451\u001b[0m     \u001b[39mraise\u001b[39;00m \u001b[39mTypeError\u001b[39;00m(\n\u001b[1;32m    452\u001b[0m         \u001b[39m\"\u001b[39m\u001b[39mMinMaxScaler does not support sparse input. \u001b[39m\u001b[39m\"\u001b[39m\n\u001b[1;32m    453\u001b[0m         \u001b[39m\"\u001b[39m\u001b[39mConsider using MaxAbsScaler instead.\u001b[39m\u001b[39m\"\u001b[39m\n\u001b[1;32m    454\u001b[0m     )\n\u001b[1;32m    456\u001b[0m first_pass \u001b[39m=\u001b[39m \u001b[39mnot\u001b[39;00m \u001b[39mhasattr\u001b[39m(\u001b[39mself\u001b[39m, \u001b[39m\"\u001b[39m\u001b[39mn_samples_seen_\u001b[39m\u001b[39m\"\u001b[39m)\n\u001b[0;32m--> 457\u001b[0m X \u001b[39m=\u001b[39m \u001b[39mself\u001b[39;49m\u001b[39m.\u001b[39;49m_validate_data(\n\u001b[1;32m    458\u001b[0m     X,\n\u001b[1;32m    459\u001b[0m     reset\u001b[39m=\u001b[39;49mfirst_pass,\n\u001b[1;32m    460\u001b[0m     dtype\u001b[39m=\u001b[39;49mFLOAT_DTYPES,\n\u001b[1;32m    461\u001b[0m     force_all_finite\u001b[39m=\u001b[39;49m\u001b[39m\"\u001b[39;49m\u001b[39mallow-nan\u001b[39;49m\u001b[39m\"\u001b[39;49m,\n\u001b[1;32m    462\u001b[0m )\n\u001b[1;32m    464\u001b[0m data_min \u001b[39m=\u001b[39m np\u001b[39m.\u001b[39mnanmin(X, axis\u001b[39m=\u001b[39m\u001b[39m0\u001b[39m)\n\u001b[1;32m    465\u001b[0m data_max \u001b[39m=\u001b[39m np\u001b[39m.\u001b[39mnanmax(X, axis\u001b[39m=\u001b[39m\u001b[39m0\u001b[39m)\n",
      "File \u001b[0;32m~/Library/Python/3.8/lib/python/site-packages/sklearn/base.py:577\u001b[0m, in \u001b[0;36mBaseEstimator._validate_data\u001b[0;34m(self, X, y, reset, validate_separately, **check_params)\u001b[0m\n\u001b[1;32m    575\u001b[0m     \u001b[39mraise\u001b[39;00m \u001b[39mValueError\u001b[39;00m(\u001b[39m\"\u001b[39m\u001b[39mValidation should be done on X, y or both.\u001b[39m\u001b[39m\"\u001b[39m)\n\u001b[1;32m    576\u001b[0m \u001b[39melif\u001b[39;00m \u001b[39mnot\u001b[39;00m no_val_X \u001b[39mand\u001b[39;00m no_val_y:\n\u001b[0;32m--> 577\u001b[0m     X \u001b[39m=\u001b[39m check_array(X, input_name\u001b[39m=\u001b[39;49m\u001b[39m\"\u001b[39;49m\u001b[39mX\u001b[39;49m\u001b[39m\"\u001b[39;49m, \u001b[39m*\u001b[39;49m\u001b[39m*\u001b[39;49mcheck_params)\n\u001b[1;32m    578\u001b[0m     out \u001b[39m=\u001b[39m X\n\u001b[1;32m    579\u001b[0m \u001b[39melif\u001b[39;00m no_val_X \u001b[39mand\u001b[39;00m \u001b[39mnot\u001b[39;00m no_val_y:\n",
      "File \u001b[0;32m~/Library/Python/3.8/lib/python/site-packages/sklearn/utils/validation.py:879\u001b[0m, in \u001b[0;36mcheck_array\u001b[0;34m(array, accept_sparse, accept_large_sparse, dtype, order, copy, force_all_finite, ensure_2d, allow_nd, ensure_min_samples, ensure_min_features, estimator, input_name)\u001b[0m\n\u001b[1;32m    877\u001b[0m     \u001b[39m# If input is 1D raise error\u001b[39;00m\n\u001b[1;32m    878\u001b[0m     \u001b[39mif\u001b[39;00m array\u001b[39m.\u001b[39mndim \u001b[39m==\u001b[39m \u001b[39m1\u001b[39m:\n\u001b[0;32m--> 879\u001b[0m         \u001b[39mraise\u001b[39;00m \u001b[39mValueError\u001b[39;00m(\n\u001b[1;32m    880\u001b[0m             \u001b[39m\"\u001b[39m\u001b[39mExpected 2D array, got 1D array instead:\u001b[39m\u001b[39m\\n\u001b[39;00m\u001b[39marray=\u001b[39m\u001b[39m{}\u001b[39;00m\u001b[39m.\u001b[39m\u001b[39m\\n\u001b[39;00m\u001b[39m\"\u001b[39m\n\u001b[1;32m    881\u001b[0m             \u001b[39m\"\u001b[39m\u001b[39mReshape your data either using array.reshape(-1, 1) if \u001b[39m\u001b[39m\"\u001b[39m\n\u001b[1;32m    882\u001b[0m             \u001b[39m\"\u001b[39m\u001b[39myour data has a single feature or array.reshape(1, -1) \u001b[39m\u001b[39m\"\u001b[39m\n\u001b[1;32m    883\u001b[0m             \u001b[39m\"\u001b[39m\u001b[39mif it contains a single sample.\u001b[39m\u001b[39m\"\u001b[39m\u001b[39m.\u001b[39mformat(array)\n\u001b[1;32m    884\u001b[0m         )\n\u001b[1;32m    886\u001b[0m \u001b[39mif\u001b[39;00m dtype_numeric \u001b[39mand\u001b[39;00m array\u001b[39m.\u001b[39mdtype\u001b[39m.\u001b[39mkind \u001b[39min\u001b[39;00m \u001b[39m\"\u001b[39m\u001b[39mUSV\u001b[39m\u001b[39m\"\u001b[39m:\n\u001b[1;32m    887\u001b[0m     \u001b[39mraise\u001b[39;00m \u001b[39mValueError\u001b[39;00m(\n\u001b[1;32m    888\u001b[0m         \u001b[39m\"\u001b[39m\u001b[39mdtype=\u001b[39m\u001b[39m'\u001b[39m\u001b[39mnumeric\u001b[39m\u001b[39m'\u001b[39m\u001b[39m is not compatible with arrays of bytes/strings.\u001b[39m\u001b[39m\"\u001b[39m\n\u001b[1;32m    889\u001b[0m         \u001b[39m\"\u001b[39m\u001b[39mConvert your data to numeric values explicitly instead.\u001b[39m\u001b[39m\"\u001b[39m\n\u001b[1;32m    890\u001b[0m     )\n",
      "\u001b[0;31mValueError\u001b[0m: Expected 2D array, got 1D array instead:\narray=[0.45129032 0.56709677 0.58607143 1.16419355 1.557      1.99290323\n 1.75933333 1.87516129 1.55967742 1.10633333 1.04032258 0.64233333\n 0.65032258 0.734      0.98821429 0.93935484 1.041      1.2916129\n 1.70433333 1.79677419 2.66580645 2.24933333 1.42225806 0.75166667\n 0.67193548 0.93741935 0.76310345 0.87193548 1.059      1.14677419\n 1.21133333 0.81419355 0.56903226 0.54266667 0.59451613 0.58833333\n 0.75516129 1.01064516 0.94535714 1.68903226 2.04233333 1.68935484\n 1.41       1.36290323 1.5016129  1.53066667 0.97580645 0.86633333\n 0.82709677 0.79129032 0.72821429 0.8016129  0.73033333 0.6383871\n 0.889      0.96774194 0.92451613 1.29466667 1.79483871 2.265\n 2.13612903 1.54870968 1.50142857 1.5083871  2.049      1.70483871\n 1.78466667 1.55032258 1.51645161 0.93433333 0.77322581 0.63633333\n 0.63548387 0.61225806 0.68344828 1.27387097 1.63625    1.63384615\n 1.58884615 1.25903226 1.08392857 1.17142857 1.10258065 0.90733333\n 0.8816129  0.87290323 0.93678571 1.02806452 0.95333333 0.77451613\n 0.89866667 0.83387097 0.97032258 1.417      1.39096774 1.28266667\n 1.14032258 1.14225806 1.11851852 1.26516129 1.65133333].\nReshape your data either using array.reshape(-1, 1) if your data has a single feature or array.reshape(1, -1) if it contains a single sample."
     ]
    }
   ],
   "source": [
    "scaler = MinMaxScaler(feature_range=(0,1))\n",
    "scaled_dataset = scaler.fit_transform(dataset)\n",
    "scaled_train = dataset.iloc[:int(scaled_dataset.shape[0]*0.8)]\n",
    "scaled_test = dataset.iloc[int(scaled_dataset.shape[0]*0.8):]"
   ]
  },
  {
   "cell_type": "code",
   "execution_count": 328,
   "metadata": {},
   "outputs": [
    {
     "data": {
      "text/html": [
       "<div>\n",
       "<style scoped>\n",
       "    .dataframe tbody tr th:only-of-type {\n",
       "        vertical-align: middle;\n",
       "    }\n",
       "\n",
       "    .dataframe tbody tr th {\n",
       "        vertical-align: top;\n",
       "    }\n",
       "\n",
       "    .dataframe thead th {\n",
       "        text-align: right;\n",
       "    }\n",
       "</style>\n",
       "<table border=\"1\" class=\"dataframe\">\n",
       "  <thead>\n",
       "    <tr style=\"text-align: right;\">\n",
       "      <th></th>\n",
       "      <th>precio_mean</th>\n",
       "    </tr>\n",
       "    <tr>\n",
       "      <th>date</th>\n",
       "      <th></th>\n",
       "    </tr>\n",
       "  </thead>\n",
       "  <tbody>\n",
       "    <tr>\n",
       "      <th>2013-12</th>\n",
       "      <td>0.451290</td>\n",
       "    </tr>\n",
       "    <tr>\n",
       "      <th>2014-01</th>\n",
       "      <td>0.567097</td>\n",
       "    </tr>\n",
       "    <tr>\n",
       "      <th>2014-02</th>\n",
       "      <td>0.586071</td>\n",
       "    </tr>\n",
       "    <tr>\n",
       "      <th>2014-03</th>\n",
       "      <td>1.164194</td>\n",
       "    </tr>\n",
       "    <tr>\n",
       "      <th>2014-04</th>\n",
       "      <td>1.557000</td>\n",
       "    </tr>\n",
       "    <tr>\n",
       "      <th>...</th>\n",
       "      <td>...</td>\n",
       "    </tr>\n",
       "    <tr>\n",
       "      <th>2020-03</th>\n",
       "      <td>1.273871</td>\n",
       "    </tr>\n",
       "    <tr>\n",
       "      <th>2020-04</th>\n",
       "      <td>1.636250</td>\n",
       "    </tr>\n",
       "    <tr>\n",
       "      <th>2020-05</th>\n",
       "      <td>1.633846</td>\n",
       "    </tr>\n",
       "    <tr>\n",
       "      <th>2020-06</th>\n",
       "      <td>1.588846</td>\n",
       "    </tr>\n",
       "    <tr>\n",
       "      <th>2020-07</th>\n",
       "      <td>1.259032</td>\n",
       "    </tr>\n",
       "  </tbody>\n",
       "</table>\n",
       "<p>80 rows × 1 columns</p>\n",
       "</div>"
      ],
      "text/plain": [
       "         precio_mean\n",
       "date                \n",
       "2013-12     0.451290\n",
       "2014-01     0.567097\n",
       "2014-02     0.586071\n",
       "2014-03     1.164194\n",
       "2014-04     1.557000\n",
       "...              ...\n",
       "2020-03     1.273871\n",
       "2020-04     1.636250\n",
       "2020-05     1.633846\n",
       "2020-06     1.588846\n",
       "2020-07     1.259032\n",
       "\n",
       "[80 rows x 1 columns]"
      ]
     },
     "execution_count": 328,
     "metadata": {},
     "output_type": "execute_result"
    }
   ],
   "source": [
    "scaled_train"
   ]
  },
  {
   "cell_type": "code",
   "execution_count": null,
   "metadata": {},
   "outputs": [],
   "source": [
    "time_steps = 4\n",
    "n_features = 1\n",
    "n_epochs = 100\n",
    "generator = TimeseriesGenerator(scaled_train,scaled_train, length=time_steps, batch_size=1)"
   ]
  },
  {
   "cell_type": "code",
   "execution_count": null,
   "metadata": {},
   "outputs": [],
   "source": [
    "model = Sequential()\n",
    "model.add(LSTM(64, input_shape=(time_steps,n_features), return_sequences=True))\n",
    "model.add(LSTM(128, return_sequences=True))\n",
    "model.add(LSTM(256, return_sequences=True))\n",
    "model.add(LSTM(128, return_sequences=True))\n",
    "model.add(LSTM(64, return_sequences=True))\n",
    "model.add(Dense(1))\n",
    "model.compile(optimizer='adam', loss='mean_squared_error')\n"
   ]
  },
  {
   "cell_type": "code",
   "execution_count": null,
   "metadata": {},
   "outputs": [
    {
     "name": "stdout",
     "output_type": "stream",
     "text": [
      "Model: \"sequential_25\"\n",
      "_________________________________________________________________\n",
      " Layer (type)                Output Shape              Param #   \n",
      "=================================================================\n",
      " lstm_45 (LSTM)              (None, 4, 64)             16896     \n",
      "                                                                 \n",
      " lstm_46 (LSTM)              (None, 4, 128)            98816     \n",
      "                                                                 \n",
      " lstm_47 (LSTM)              (None, 4, 256)            394240    \n",
      "                                                                 \n",
      " lstm_48 (LSTM)              (None, 4, 128)            197120    \n",
      "                                                                 \n",
      " lstm_49 (LSTM)              (None, 4, 64)             49408     \n",
      "                                                                 \n",
      " dense_21 (Dense)            (None, 4, 1)              65        \n",
      "                                                                 \n",
      "=================================================================\n",
      "Total params: 756,545\n",
      "Trainable params: 756,545\n",
      "Non-trainable params: 0\n",
      "_________________________________________________________________\n"
     ]
    }
   ],
   "source": [
    "model.summary()"
   ]
  },
  {
   "cell_type": "code",
   "execution_count": null,
   "metadata": {},
   "outputs": [
    {
     "name": "stdout",
     "output_type": "stream",
     "text": [
      "Epoch 1/100\n",
      "76/76 - 15s - loss: 0.0900 - 15s/epoch - 191ms/step\n",
      "Epoch 2/100\n",
      "76/76 - 1s - loss: 0.0637 - 595ms/epoch - 8ms/step\n",
      "Epoch 3/100\n",
      "76/76 - 1s - loss: 0.0595 - 585ms/epoch - 8ms/step\n",
      "Epoch 4/100\n",
      "76/76 - 1s - loss: 0.0555 - 595ms/epoch - 8ms/step\n",
      "Epoch 5/100\n",
      "76/76 - 1s - loss: 0.0542 - 621ms/epoch - 8ms/step\n",
      "Epoch 6/100\n",
      "76/76 - 1s - loss: 0.0527 - 593ms/epoch - 8ms/step\n",
      "Epoch 7/100\n",
      "76/76 - 1s - loss: 0.0514 - 610ms/epoch - 8ms/step\n",
      "Epoch 8/100\n",
      "76/76 - 1s - loss: 0.0516 - 616ms/epoch - 8ms/step\n",
      "Epoch 9/100\n",
      "76/76 - 1s - loss: 0.0500 - 600ms/epoch - 8ms/step\n",
      "Epoch 10/100\n",
      "76/76 - 1s - loss: 0.0509 - 595ms/epoch - 8ms/step\n",
      "Epoch 11/100\n",
      "76/76 - 1s - loss: 0.0492 - 610ms/epoch - 8ms/step\n",
      "Epoch 12/100\n",
      "76/76 - 1s - loss: 0.0499 - 604ms/epoch - 8ms/step\n",
      "Epoch 13/100\n",
      "76/76 - 1s - loss: 0.0494 - 619ms/epoch - 8ms/step\n",
      "Epoch 14/100\n",
      "76/76 - 1s - loss: 0.0477 - 617ms/epoch - 8ms/step\n",
      "Epoch 15/100\n",
      "76/76 - 1s - loss: 0.0488 - 809ms/epoch - 11ms/step\n",
      "Epoch 16/100\n",
      "76/76 - 1s - loss: 0.0461 - 673ms/epoch - 9ms/step\n",
      "Epoch 17/100\n",
      "76/76 - 1s - loss: 0.0457 - 665ms/epoch - 9ms/step\n",
      "Epoch 18/100\n",
      "76/76 - 1s - loss: 0.0445 - 646ms/epoch - 9ms/step\n",
      "Epoch 19/100\n",
      "76/76 - 1s - loss: 0.0416 - 626ms/epoch - 8ms/step\n",
      "Epoch 20/100\n",
      "76/76 - 1s - loss: 0.0424 - 648ms/epoch - 9ms/step\n",
      "Epoch 21/100\n",
      "76/76 - 1s - loss: 0.0417 - 818ms/epoch - 11ms/step\n",
      "Epoch 22/100\n",
      "76/76 - 1s - loss: 0.0405 - 752ms/epoch - 10ms/step\n",
      "Epoch 23/100\n",
      "76/76 - 1s - loss: 0.0402 - 647ms/epoch - 9ms/step\n",
      "Epoch 24/100\n",
      "76/76 - 1s - loss: 0.0398 - 614ms/epoch - 8ms/step\n",
      "Epoch 25/100\n",
      "76/76 - 1s - loss: 0.0446 - 600ms/epoch - 8ms/step\n",
      "Epoch 26/100\n",
      "76/76 - 1s - loss: 0.0389 - 602ms/epoch - 8ms/step\n",
      "Epoch 27/100\n",
      "76/76 - 1s - loss: 0.0414 - 581ms/epoch - 8ms/step\n",
      "Epoch 28/100\n",
      "76/76 - 1s - loss: 0.0393 - 577ms/epoch - 8ms/step\n",
      "Epoch 29/100\n",
      "76/76 - 1s - loss: 0.0410 - 575ms/epoch - 8ms/step\n",
      "Epoch 30/100\n",
      "76/76 - 1s - loss: 0.0397 - 657ms/epoch - 9ms/step\n",
      "Epoch 31/100\n",
      "76/76 - 1s - loss: 0.0366 - 593ms/epoch - 8ms/step\n",
      "Epoch 32/100\n",
      "76/76 - 1s - loss: 0.0395 - 619ms/epoch - 8ms/step\n",
      "Epoch 33/100\n",
      "76/76 - 1s - loss: 0.0383 - 625ms/epoch - 8ms/step\n",
      "Epoch 34/100\n",
      "76/76 - 1s - loss: 0.0383 - 662ms/epoch - 9ms/step\n",
      "Epoch 35/100\n",
      "76/76 - 1s - loss: 0.0351 - 659ms/epoch - 9ms/step\n",
      "Epoch 36/100\n",
      "76/76 - 1s - loss: 0.0385 - 693ms/epoch - 9ms/step\n",
      "Epoch 37/100\n",
      "76/76 - 1s - loss: 0.0366 - 697ms/epoch - 9ms/step\n",
      "Epoch 38/100\n",
      "76/76 - 1s - loss: 0.0371 - 707ms/epoch - 9ms/step\n",
      "Epoch 39/100\n",
      "76/76 - 1s - loss: 0.0380 - 664ms/epoch - 9ms/step\n",
      "Epoch 40/100\n",
      "76/76 - 1s - loss: 0.0357 - 656ms/epoch - 9ms/step\n",
      "Epoch 41/100\n",
      "76/76 - 1s - loss: 0.0357 - 638ms/epoch - 8ms/step\n",
      "Epoch 42/100\n",
      "76/76 - 1s - loss: 0.0350 - 626ms/epoch - 8ms/step\n",
      "Epoch 43/100\n",
      "76/76 - 1s - loss: 0.0354 - 655ms/epoch - 9ms/step\n",
      "Epoch 44/100\n",
      "76/76 - 1s - loss: 0.0352 - 626ms/epoch - 8ms/step\n",
      "Epoch 45/100\n",
      "76/76 - 1s - loss: 0.0362 - 705ms/epoch - 9ms/step\n",
      "Epoch 46/100\n",
      "76/76 - 1s - loss: 0.0356 - 641ms/epoch - 8ms/step\n",
      "Epoch 47/100\n",
      "76/76 - 1s - loss: 0.0364 - 642ms/epoch - 8ms/step\n",
      "Epoch 48/100\n",
      "76/76 - 1s - loss: 0.0361 - 644ms/epoch - 8ms/step\n",
      "Epoch 49/100\n",
      "76/76 - 1s - loss: 0.0364 - 808ms/epoch - 11ms/step\n",
      "Epoch 50/100\n",
      "76/76 - 1s - loss: 0.0349 - 805ms/epoch - 11ms/step\n",
      "Epoch 51/100\n",
      "76/76 - 1s - loss: 0.0352 - 710ms/epoch - 9ms/step\n",
      "Epoch 52/100\n",
      "76/76 - 1s - loss: 0.0345 - 715ms/epoch - 9ms/step\n",
      "Epoch 53/100\n",
      "76/76 - 1s - loss: 0.0352 - 664ms/epoch - 9ms/step\n",
      "Epoch 54/100\n",
      "76/76 - 1s - loss: 0.0336 - 707ms/epoch - 9ms/step\n",
      "Epoch 55/100\n",
      "76/76 - 1s - loss: 0.0357 - 688ms/epoch - 9ms/step\n",
      "Epoch 56/100\n",
      "76/76 - 1s - loss: 0.0350 - 680ms/epoch - 9ms/step\n",
      "Epoch 57/100\n",
      "76/76 - 1s - loss: 0.0359 - 671ms/epoch - 9ms/step\n",
      "Epoch 58/100\n",
      "76/76 - 1s - loss: 0.0346 - 644ms/epoch - 8ms/step\n",
      "Epoch 59/100\n",
      "76/76 - 1s - loss: 0.0357 - 625ms/epoch - 8ms/step\n",
      "Epoch 60/100\n",
      "76/76 - 1s - loss: 0.0365 - 616ms/epoch - 8ms/step\n",
      "Epoch 61/100\n",
      "76/76 - 1s - loss: 0.0349 - 643ms/epoch - 8ms/step\n",
      "Epoch 62/100\n",
      "76/76 - 1s - loss: 0.0370 - 609ms/epoch - 8ms/step\n",
      "Epoch 63/100\n",
      "76/76 - 1s - loss: 0.0349 - 606ms/epoch - 8ms/step\n",
      "Epoch 64/100\n",
      "76/76 - 1s - loss: 0.0350 - 619ms/epoch - 8ms/step\n",
      "Epoch 65/100\n",
      "76/76 - 1s - loss: 0.0361 - 598ms/epoch - 8ms/step\n",
      "Epoch 66/100\n",
      "76/76 - 1s - loss: 0.0353 - 616ms/epoch - 8ms/step\n",
      "Epoch 67/100\n",
      "76/76 - 1s - loss: 0.0355 - 625ms/epoch - 8ms/step\n",
      "Epoch 68/100\n",
      "76/76 - 1s - loss: 0.0350 - 611ms/epoch - 8ms/step\n",
      "Epoch 69/100\n",
      "76/76 - 1s - loss: 0.0359 - 610ms/epoch - 8ms/step\n",
      "Epoch 70/100\n",
      "76/76 - 1s - loss: 0.0359 - 614ms/epoch - 8ms/step\n",
      "Epoch 71/100\n",
      "76/76 - 1s - loss: 0.0352 - 610ms/epoch - 8ms/step\n",
      "Epoch 72/100\n",
      "76/76 - 1s - loss: 0.0352 - 629ms/epoch - 8ms/step\n",
      "Epoch 73/100\n",
      "76/76 - 1s - loss: 0.0336 - 652ms/epoch - 9ms/step\n",
      "Epoch 74/100\n",
      "76/76 - 1s - loss: 0.0349 - 657ms/epoch - 9ms/step\n",
      "Epoch 75/100\n",
      "76/76 - 1s - loss: 0.0353 - 658ms/epoch - 9ms/step\n",
      "Epoch 76/100\n",
      "76/76 - 1s - loss: 0.0343 - 655ms/epoch - 9ms/step\n",
      "Epoch 77/100\n",
      "76/76 - 1s - loss: 0.0350 - 649ms/epoch - 9ms/step\n",
      "Epoch 78/100\n",
      "76/76 - 1s - loss: 0.0338 - 689ms/epoch - 9ms/step\n",
      "Epoch 79/100\n",
      "76/76 - 1s - loss: 0.0339 - 677ms/epoch - 9ms/step\n",
      "Epoch 80/100\n",
      "76/76 - 1s - loss: 0.0343 - 685ms/epoch - 9ms/step\n",
      "Epoch 81/100\n",
      "76/76 - 1s - loss: 0.0352 - 647ms/epoch - 9ms/step\n",
      "Epoch 82/100\n",
      "76/76 - 1s - loss: 0.0350 - 619ms/epoch - 8ms/step\n",
      "Epoch 83/100\n",
      "76/76 - 1s - loss: 0.0338 - 643ms/epoch - 8ms/step\n",
      "Epoch 84/100\n",
      "76/76 - 1s - loss: 0.0370 - 650ms/epoch - 9ms/step\n",
      "Epoch 85/100\n",
      "76/76 - 1s - loss: 0.0347 - 663ms/epoch - 9ms/step\n",
      "Epoch 86/100\n",
      "76/76 - 1s - loss: 0.0338 - 672ms/epoch - 9ms/step\n",
      "Epoch 87/100\n",
      "76/76 - 1s - loss: 0.0341 - 660ms/epoch - 9ms/step\n",
      "Epoch 88/100\n",
      "76/76 - 1s - loss: 0.0342 - 659ms/epoch - 9ms/step\n",
      "Epoch 89/100\n",
      "76/76 - 1s - loss: 0.0338 - 649ms/epoch - 9ms/step\n",
      "Epoch 90/100\n",
      "76/76 - 1s - loss: 0.0343 - 680ms/epoch - 9ms/step\n",
      "Epoch 91/100\n",
      "76/76 - 1s - loss: 0.0346 - 659ms/epoch - 9ms/step\n",
      "Epoch 92/100\n",
      "76/76 - 1s - loss: 0.0343 - 651ms/epoch - 9ms/step\n",
      "Epoch 93/100\n",
      "76/76 - 1s - loss: 0.0343 - 638ms/epoch - 8ms/step\n",
      "Epoch 94/100\n",
      "76/76 - 1s - loss: 0.0338 - 636ms/epoch - 8ms/step\n",
      "Epoch 95/100\n",
      "76/76 - 1s - loss: 0.0339 - 653ms/epoch - 9ms/step\n",
      "Epoch 96/100\n",
      "76/76 - 1s - loss: 0.0343 - 700ms/epoch - 9ms/step\n",
      "Epoch 97/100\n",
      "76/76 - 1s - loss: 0.0328 - 773ms/epoch - 10ms/step\n",
      "Epoch 98/100\n",
      "76/76 - 1s - loss: 0.0333 - 733ms/epoch - 10ms/step\n",
      "Epoch 99/100\n",
      "76/76 - 1s - loss: 0.0338 - 928ms/epoch - 12ms/step\n",
      "Epoch 100/100\n",
      "76/76 - 1s - loss: 0.0332 - 711ms/epoch - 9ms/step\n"
     ]
    },
    {
     "data": {
      "text/plain": [
       "<keras.callbacks.History at 0x175ab7df0>"
      ]
     },
     "execution_count": 309,
     "metadata": {},
     "output_type": "execute_result"
    }
   ],
   "source": [
    "model.fit(generator, epochs=n_epochs, batch_size=1, verbose=2)"
   ]
  },
  {
   "cell_type": "code",
   "execution_count": null,
   "metadata": {},
   "outputs": [
    {
     "data": {
      "text/plain": [
       "[<matplotlib.lines.Line2D at 0x169de3a30>]"
      ]
     },
     "execution_count": 310,
     "metadata": {},
     "output_type": "execute_result"
    },
    {
     "data": {
      "image/png": "[encoded data removed]",
      "text/plain": [
       "<Figure size 432x288 with 1 Axes>"
      ]
     },
     "metadata": {
      "needs_background": "light"
     },
     "output_type": "display_data"
    }
   ],
   "source": [
    "loss_per_epoch = model.history.history['loss']\n",
    "plt.plot(range(len(loss_per_epoch)),loss_per_epoch)"
   ]
  },
  {
   "cell_type": "code",
   "execution_count": null,
   "metadata": {},
   "outputs": [
    {
     "name": "stdout",
     "output_type": "stream",
     "text": [
      "WARNING:tensorflow:Model was constructed with shape (None, 4, 1) for input KerasTensor(type_spec=TensorSpec(shape=(None, 4, 1), dtype=tf.float32, name='lstm_45_input'), name='lstm_45_input', description=\"created by layer 'lstm_45_input'\"), but it was called on an input with incompatible shape (None, 1, 1).\n",
      "1/1 [==============================] - 2s 2s/step\n"
     ]
    },
    {
     "data": {
      "text/plain": [
       "(array([[[0.37871203]]], dtype=float32), 0.35288135415060784)"
      ]
     },
     "execution_count": 311,
     "metadata": {},
     "output_type": "execute_result"
    }
   ],
   "source": [
    "model.predict(scaled_train[-1:]),scaled_test[0][0]"
   ]
  },
  {
   "cell_type": "code",
   "execution_count": null,
   "metadata": {},
   "outputs": [
    {
     "name": "stdout",
     "output_type": "stream",
     "text": [
      "1/1 [==============================] - 0s 75ms/step\n",
      "1/1 [==============================] - 0s 25ms/step\n",
      "1/1 [==============================] - 0s 23ms/step\n",
      "1/1 [==============================] - 0s 26ms/step\n",
      "1/1 [==============================] - 0s 25ms/step\n",
      "1/1 [==============================] - 0s 24ms/step\n",
      "1/1 [==============================] - 0s 18ms/step\n",
      "1/1 [==============================] - 0s 20ms/step\n",
      "1/1 [==============================] - 0s 16ms/step\n",
      "1/1 [==============================] - 0s 19ms/step\n",
      "1/1 [==============================] - 0s 19ms/step\n",
      "1/1 [==============================] - 0s 20ms/step\n",
      "1/1 [==============================] - 0s 24ms/step\n",
      "1/1 [==============================] - 0s 26ms/step\n",
      "1/1 [==============================] - 0s 24ms/step\n",
      "1/1 [==============================] - 0s 25ms/step\n",
      "1/1 [==============================] - 0s 21ms/step\n",
      "1/1 [==============================] - 0s 19ms/step\n",
      "1/1 [==============================] - 0s 19ms/step\n",
      "1/1 [==============================] - 0s 18ms/step\n",
      "1/1 [==============================] - 0s 19ms/step\n"
     ]
    }
   ],
   "source": [
    "predictions = []\n",
    "\n",
    "first_batch = scaled_train[-time_steps:]\n",
    "current_batch = first_batch.reshape((1,time_steps,n_features))\n",
    "\n",
    "for i in range(len(test)):\n",
    "    current_pred = model.predict(current_batch)[0][0]\n",
    "    predictions.append(current_pred)\n",
    "    current_batch = np.append(current_batch[:,1:,:],[[current_pred]],axis=1)"
   ]
  },
  {
   "cell_type": "code",
   "execution_count": null,
   "metadata": {},
   "outputs": [
    {
     "data": {
      "text/plain": [
       "[array([0.35374767], dtype=float32),\n",
       " array([0.35388184], dtype=float32),\n",
       " array([0.35645396], dtype=float32),\n",
       " array([0.378712], dtype=float32),\n",
       " array([0.38041186], dtype=float32),\n",
       " array([0.38039142], dtype=float32),\n",
       " array([0.37999827], dtype=float32),\n",
       " array([0.3765022], dtype=float32),\n",
       " array([0.37623078], dtype=float32),\n",
       " array([0.376234], dtype=float32),\n",
       " array([0.37629682], dtype=float32),\n",
       " array([0.37685448], dtype=float32),\n",
       " array([0.3768977], dtype=float32),\n",
       " array([0.3768972], dtype=float32),\n",
       " array([0.37688717], dtype=float32),\n",
       " array([0.37679836], dtype=float32),\n",
       " array([0.37679148], dtype=float32),\n",
       " array([0.37679154], dtype=float32),\n",
       " array([0.37679315], dtype=float32),\n",
       " array([0.3768073], dtype=float32),\n",
       " array([0.37680838], dtype=float32)]"
      ]
     },
     "execution_count": 320,
     "metadata": {},
     "output_type": "execute_result"
    }
   ],
   "source": [
    "predictions"
   ]
  },
  {
   "cell_type": "code",
   "execution_count": null,
   "metadata": {},
   "outputs": [],
   "source": [
    "predictions = np.array([p[0] for p in predictions])"
   ]
  },
  {
   "cell_type": "code",
   "execution_count": null,
   "metadata": {},
   "outputs": [
    {
     "ename": "ValueError",
     "evalue": "Expected 2D array, got 1D array instead:\narray=[0.35374767 0.35388184 0.35645396 0.378712   0.38041186 0.38039142\n 0.37999827 0.3765022  0.37623078 0.376234   0.37629682 0.37685448\n 0.3768977  0.3768972  0.37688717 0.37679836 0.37679148 0.37679154\n 0.37679315 0.3768073  0.37680838].\nReshape your data either using array.reshape(-1, 1) if your data has a single feature or array.reshape(1, -1) if it contains a single sample.",
     "output_type": "error",
     "traceback": [
      "\u001b[0;31m---------------------------------------------------------------------------\u001b[0m",
      "\u001b[0;31mValueError\u001b[0m                                Traceback (most recent call last)",
      "\u001b[1;32m/Users/alejandrogoicochea/Documents/UTEC/tesis/Model/lstm.ipynb Cell 19'\u001b[0m in \u001b[0;36m<cell line: 1>\u001b[0;34m()\u001b[0m\n\u001b[0;32m----> <a href='vscode-notebook-cell:/Users/alejandrogoicochea/Documents/UTEC/tesis/Model/lstm.ipynb#ch0000016?line=0'>1</a>\u001b[0m unscaled_predictions \u001b[39m=\u001b[39m scaler\u001b[39m.\u001b[39;49minverse_transform(predictions)\n\u001b[1;32m      <a href='vscode-notebook-cell:/Users/alejandrogoicochea/Documents/UTEC/tesis/Model/lstm.ipynb#ch0000016?line=1'>2</a>\u001b[0m unscaled_predictions\n",
      "File \u001b[0;32m~/Library/Python/3.8/lib/python/site-packages/sklearn/preprocessing/_data.py:528\u001b[0m, in \u001b[0;36mMinMaxScaler.inverse_transform\u001b[0;34m(self, X)\u001b[0m\n\u001b[1;32m    514\u001b[0m \u001b[39m\"\"\"Undo the scaling of X according to feature_range.\u001b[39;00m\n\u001b[1;32m    515\u001b[0m \n\u001b[1;32m    516\u001b[0m \u001b[39mParameters\u001b[39;00m\n\u001b[0;32m   (...)\u001b[0m\n\u001b[1;32m    524\u001b[0m \u001b[39m    Transformed data.\u001b[39;00m\n\u001b[1;32m    525\u001b[0m \u001b[39m\"\"\"\u001b[39;00m\n\u001b[1;32m    526\u001b[0m check_is_fitted(\u001b[39mself\u001b[39m)\n\u001b[0;32m--> 528\u001b[0m X \u001b[39m=\u001b[39m check_array(\n\u001b[1;32m    529\u001b[0m     X, copy\u001b[39m=\u001b[39;49m\u001b[39mself\u001b[39;49m\u001b[39m.\u001b[39;49mcopy, dtype\u001b[39m=\u001b[39;49mFLOAT_DTYPES, force_all_finite\u001b[39m=\u001b[39;49m\u001b[39m\"\u001b[39;49m\u001b[39mallow-nan\u001b[39;49m\u001b[39m\"\u001b[39;49m\n\u001b[1;32m    530\u001b[0m )\n\u001b[1;32m    532\u001b[0m X \u001b[39m-\u001b[39m\u001b[39m=\u001b[39m \u001b[39mself\u001b[39m\u001b[39m.\u001b[39mmin_\n\u001b[1;32m    533\u001b[0m X \u001b[39m/\u001b[39m\u001b[39m=\u001b[39m \u001b[39mself\u001b[39m\u001b[39m.\u001b[39mscale_\n",
      "File \u001b[0;32m~/Library/Python/3.8/lib/python/site-packages/sklearn/utils/validation.py:879\u001b[0m, in \u001b[0;36mcheck_array\u001b[0;34m(array, accept_sparse, accept_large_sparse, dtype, order, copy, force_all_finite, ensure_2d, allow_nd, ensure_min_samples, ensure_min_features, estimator, input_name)\u001b[0m\n\u001b[1;32m    877\u001b[0m     \u001b[39m# If input is 1D raise error\u001b[39;00m\n\u001b[1;32m    878\u001b[0m     \u001b[39mif\u001b[39;00m array\u001b[39m.\u001b[39mndim \u001b[39m==\u001b[39m \u001b[39m1\u001b[39m:\n\u001b[0;32m--> 879\u001b[0m         \u001b[39mraise\u001b[39;00m \u001b[39mValueError\u001b[39;00m(\n\u001b[1;32m    880\u001b[0m             \u001b[39m\"\u001b[39m\u001b[39mExpected 2D array, got 1D array instead:\u001b[39m\u001b[39m\\n\u001b[39;00m\u001b[39marray=\u001b[39m\u001b[39m{}\u001b[39;00m\u001b[39m.\u001b[39m\u001b[39m\\n\u001b[39;00m\u001b[39m\"\u001b[39m\n\u001b[1;32m    881\u001b[0m             \u001b[39m\"\u001b[39m\u001b[39mReshape your data either using array.reshape(-1, 1) if \u001b[39m\u001b[39m\"\u001b[39m\n\u001b[1;32m    882\u001b[0m             \u001b[39m\"\u001b[39m\u001b[39myour data has a single feature or array.reshape(1, -1) \u001b[39m\u001b[39m\"\u001b[39m\n\u001b[1;32m    883\u001b[0m             \u001b[39m\"\u001b[39m\u001b[39mif it contains a single sample.\u001b[39m\u001b[39m\"\u001b[39m\u001b[39m.\u001b[39mformat(array)\n\u001b[1;32m    884\u001b[0m         )\n\u001b[1;32m    886\u001b[0m \u001b[39mif\u001b[39;00m dtype_numeric \u001b[39mand\u001b[39;00m array\u001b[39m.\u001b[39mdtype\u001b[39m.\u001b[39mkind \u001b[39min\u001b[39;00m \u001b[39m\"\u001b[39m\u001b[39mUSV\u001b[39m\u001b[39m\"\u001b[39m:\n\u001b[1;32m    887\u001b[0m     \u001b[39mraise\u001b[39;00m \u001b[39mValueError\u001b[39;00m(\n\u001b[1;32m    888\u001b[0m         \u001b[39m\"\u001b[39m\u001b[39mdtype=\u001b[39m\u001b[39m'\u001b[39m\u001b[39mnumeric\u001b[39m\u001b[39m'\u001b[39m\u001b[39m is not compatible with arrays of bytes/strings.\u001b[39m\u001b[39m\"\u001b[39m\n\u001b[1;32m    889\u001b[0m         \u001b[39m\"\u001b[39m\u001b[39mConvert your data to numeric values explicitly instead.\u001b[39m\u001b[39m\"\u001b[39m\n\u001b[1;32m    890\u001b[0m     )\n",
      "\u001b[0;31mValueError\u001b[0m: Expected 2D array, got 1D array instead:\narray=[0.35374767 0.35388184 0.35645396 0.378712   0.38041186 0.38039142\n 0.37999827 0.3765022  0.37623078 0.376234   0.37629682 0.37685448\n 0.3768977  0.3768972  0.37688717 0.37679836 0.37679148 0.37679154\n 0.37679315 0.3768073  0.37680838].\nReshape your data either using array.reshape(-1, 1) if your data has a single feature or array.reshape(1, -1) if it contains a single sample."
     ]
    }
   ],
   "source": [
    "unscaled_predictions = scaler.inverse_transform(predictions)\n",
    "unscaled_predictions"
   ]
  },
  {
   "cell_type": "code",
   "execution_count": null,
   "metadata": {},
   "outputs": [
    {
     "name": "stderr",
     "output_type": "stream",
     "text": [
      "/var/folders/4g/2b3wfgg125s4z9sg913448zm0000gn/T/ipykernel_57185/330631504.py:1: SettingWithCopyWarning: \n",
      "A value is trying to be set on a copy of a slice from a DataFrame.\n",
      "Try using .loc[row_indexer,col_indexer] = value instead\n",
      "\n",
      "See the caveats in the documentation: https://pandas.pydata.org/pandas-docs/stable/user_guide/indexing.html#returning-a-view-versus-a-copy\n",
      "  test['predictions'] = unscaled_predictions\n"
     ]
    }
   ],
   "source": [
    "test['predictions'] = unscaled_predictions"
   ]
  },
  {
   "cell_type": "code",
   "execution_count": null,
   "metadata": {},
   "outputs": [
    {
     "data": {
      "text/plain": [
       "<AxesSubplot:xlabel='date'>"
      ]
     },
     "execution_count": 303,
     "metadata": {},
     "output_type": "execute_result"
    },
    {
     "data": {
      "image/png": "[encoded data removed]",
      "text/plain": [
       "<Figure size 1152x864 with 1 Axes>"
      ]
     },
     "metadata": {
      "needs_background": "light"
     },
     "output_type": "display_data"
    }
   ],
   "source": [
    "test.plot(figsize=(16,12))"
   ]
  },
  {
   "cell_type": "code",
   "execution_count": null,
   "metadata": {},
   "outputs": [
    {
     "data": {
      "text/plain": [
       "16.49312015684278"
      ]
     },
     "execution_count": 289,
     "metadata": {},
     "output_type": "execute_result"
    }
   ],
   "source": [
    "mape_error = mean_absolute_percentage_error(test['precio_mean'], test['predictions'])*100\n",
    "mape_error"
   ]
  }
 ],
 "metadata": {
  "kernelspec": {
   "display_name": "Python 3.8.9 64-bit",
   "language": "python",
   "name": "python3"
  },
  "language_info": {
   "codemirror_mode": {
    "name": "ipython",
    "version": 3
   },
   "file_extension": ".py",
   "mimetype": "text/x-python",
   "name": "python",
   "nbconvert_exporter": "python",
   "pygments_lexer": "ipython3",
   "version": "3.8.9"
  },
  "orig_nbformat": 4,
  "vscode": {
   "interpreter": {
    "hash": "31f2aee4e71d21fbe5cf8b01ff0e069b9275f58929596ceb00d14d90e3e16cd6"
   }
  }
 },
 "nbformat": 4,
 "nbformat_minor": 2
}
