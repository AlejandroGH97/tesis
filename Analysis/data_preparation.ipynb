{
 "cells": [
  {
   "cell_type": "code",
   "execution_count": 197,
   "metadata": {},
   "outputs": [],
   "source": [
    "import pandas as pd\n",
    "import numpy as np"
   ]
  },
  {
   "cell_type": "code",
   "execution_count": 198,
   "metadata": {},
   "outputs": [],
   "source": [
    "papas_g1 = pd.read_csv('../Data/papas_g1_diaria.csv')\n",
    "papas_g2 = pd.read_csv('../Data/papas_g2_diaria.csv')\n",
    "\n",
    "papas_procedencia_g1 = pd.read_csv('../Data/papas_procedencia_g1_diaria.csv')\n",
    "papas_procedencia_g2 = pd.read_csv('../Data/papas_procedencia_g2_diaria.csv')\n",
    "\n",
    "petroleo = pd.read_csv('../Data/precio_petroleo_diario.csv')\n",
    "\n",
    "temperatura = pd.read_csv('../Data/temperatura_automatico.csv')"
   ]
  },
  {
   "cell_type": "code",
   "execution_count": 199,
   "metadata": {},
   "outputs": [],
   "source": [
    "dataProcedenciaJunin_g1 = papas_procedencia_g1[papas_procedencia_g1[\"procedencia\"] == \"JUNIN\"][[\"cantidad (TM)\", \"date\"]]\n",
    "dataProcedenciaJunin_g1[\"date\"] = pd.to_datetime(dataProcedenciaJunin_g1[\"date\"], format=\"%Y-%m-%d\")\n",
    "dataProcedenciaJunin_g1 = dataProcedenciaJunin_g1.groupby('date').sum().reset_index()\n",
    "\n",
    "dataProcedenciaJunin_g2 = papas_procedencia_g2[papas_procedencia_g2[\"procedencia\"] == \"JUNIN\"][[\"cantidad (TM)\", \"date\"]]\n",
    "dataProcedenciaJunin_g2[\"date\"] = pd.to_datetime(dataProcedenciaJunin_g2[\"date\"], format=\"%Y-%m-%d\")\n",
    "dataProcedenciaJunin_g2 = dataProcedenciaJunin_g2.groupby('date').sum().reset_index()\n",
    "\n",
    "papas_g1[\"date\"] = pd.to_datetime(papas_g1[\"date\"], format=\"%Y-%m-%d\")\n",
    "papas_g2[\"date\"] = pd.to_datetime(papas_g2[\"date\"], format=\"%Y-%m-%d\")\n"
   ]
  },
  {
   "cell_type": "code",
   "execution_count": 200,
   "metadata": {},
   "outputs": [],
   "source": [
    "papas_g1 = papas_g1[['producto','precio_mean','date']]\n",
    "papas_g2 = papas_g2[['producto','precio_mean','date']]"
   ]
  },
  {
   "cell_type": "code",
   "execution_count": 201,
   "metadata": {},
   "outputs": [],
   "source": [
    "month_map = {\n",
    "    \"Ene\": \"01\",\n",
    "    \"Feb\": \"02\",\n",
    "    \"Mar\": \"03\",\n",
    "    \"Abr\": \"04\",\n",
    "    \"May\": \"05\",\n",
    "    \"Jun\": \"06\",\n",
    "    \"Jul\": \"07\",\n",
    "    \"Ago\": \"08\",\n",
    "    \"Set\": \"09\",\n",
    "    \"Oct\": \"10\",\n",
    "    \"Nov\": \"11\",\n",
    "    \"Dic\": \"12\",\n",
    "}\n",
    "\n",
    "\n",
    "def parse_date(row):\n",
    "    return (\n",
    "        row[\"fecha\"][:2] + \"-\" + month_map[row[\"fecha\"][2:5]] + \"-\" + row[\"fecha\"][5:]\n",
    "    )\n",
    "\n",
    "\n",
    "petroleo[\"date\"] = petroleo.apply(lambda row: parse_date(row), axis=1)\n",
    "petroleo[\"date\"] = pd.to_datetime(petroleo[\"date\"], format=\"%d-%m-%y\")\n",
    "petroleo = petroleo[[\"date\", \"precio\"]]\n",
    "petroleo = petroleo[petroleo[\"date\"] >= \"2015-01-01\"]\n",
    "petroleo[\"precio\"] = petroleo.apply(\n",
    "    lambda row: 0 if row[\"precio\"] == \"n.d.\" else row[\"precio\"], axis=1\n",
    ")\n",
    "petroleo[\"precio\"] = petroleo[\"precio\"].astype(float)"
   ]
  },
  {
   "cell_type": "code",
   "execution_count": 202,
   "metadata": {},
   "outputs": [],
   "source": [
    "dates = pd.DataFrame(papas_g1['date'].unique(), columns=['date']).set_index('date').resample('D').asfreq().index\n",
    "productos = papas_g1['producto'].unique()\n",
    "idx = pd.MultiIndex.from_product((dates, productos), names=['dates', 'producto'])\n",
    "papas_g1_completo = papas_g1.set_index(['date', 'producto']).reindex(idx, fill_value=0).reset_index()\n",
    "papas_g1_completo['precio_mean'] = papas_g1_completo['precio_mean'].replace(to_replace=0, method='ffill')\n",
    "\n",
    "dates = pd.DataFrame(papas_g2['date'].unique(), columns=['date']).set_index('date').resample('D').asfreq().index\n",
    "productos = papas_g2['producto'].unique()\n",
    "idx = pd.MultiIndex.from_product((dates, productos), names=['dates', 'producto'])\n",
    "papas_g2_completo = papas_g2.set_index(['date', 'producto']).reindex(idx, fill_value=0).reset_index()\n",
    "papas_g2_completo['precio_mean'] = papas_g2_completo['precio_mean'].replace(to_replace=0, method='ffill')"
   ]
  },
  {
   "cell_type": "code",
   "execution_count": 203,
   "metadata": {},
   "outputs": [],
   "source": [
    "papas_g1_completo.to_csv('../Data/Processed/papas_g1.csv', index=False)\n",
    "papas_g2_completo.to_csv('../Data/Processed/papas_g2.csv', index=False)\n",
    "\n",
    "dataProcedenciaJunin_g1.to_csv('../Data/Processed/procedencia_g1.csv', index=False)\n",
    "dataProcedenciaJunin_g2.to_csv('../Data/Processed/procedencia_g2.csv', index=False)"
   ]
  },
  {
   "cell_type": "markdown",
   "metadata": {},
   "source": [
    "# Solo precio"
   ]
  },
  {
   "cell_type": "code",
   "execution_count": 204,
   "metadata": {},
   "outputs": [],
   "source": [
    "papas_g1_completo_pre = papas_g1_completo[(\n",
    "    papas_g1_completo['dates'] >= '2013-12-01') & (papas_g1_completo['dates'] < '2020-01-01')]\n",
    "\n",
    "papas_g1_completo_post = papas_g1_completo[papas_g1_completo['dates'] >= '2020-01-01']\n",
    "\n",
    "papas_g1_completo_pre.to_csv('../Data/solo_precio/papas_g1_pre.csv', index=False)\n",
    "papas_g1_completo_post.to_csv('../Data/solo_precio/papas_g1_post.csv', index=False)\n",
    "\n",
    "papas_g2_completo_pre = papas_g2_completo[(\n",
    "    papas_g2_completo['dates'] >= '2013-12-01') & (papas_g2_completo['dates'] < '2020-01-01')]\n",
    "\n",
    "papas_g2_completo_post = papas_g2_completo[papas_g2_completo['dates'] >= '2020-01-01']\n",
    "\n",
    "papas_g2_completo_pre.to_csv('../Data/solo_precio/papas_g2_pre.csv', index=False)\n",
    "papas_g2_completo_post.to_csv('../Data/solo_precio/papas_g2_post.csv', index=False)"
   ]
  },
  {
   "cell_type": "markdown",
   "metadata": {},
   "source": [
    "# Precio + Petroleo + Ingreso total"
   ]
  },
  {
   "cell_type": "code",
   "execution_count": 205,
   "metadata": {},
   "outputs": [],
   "source": [
    "# Precio\n",
    "papas_g1_completo_pre = papas_g1_completo[(\n",
    "    papas_g1_completo['dates'] >= '2015-01-01') & (papas_g1_completo['dates'] < '2020-01-01')]\n",
    "\n",
    "papas_g1_completo_post = papas_g1_completo[papas_g1_completo['dates'] >= '2020-01-01']\n",
    "\n",
    "papas_g1_completo_pre.to_csv('../Data/precio_petroleo_cantidad/papas_g1_pre.csv', index=False)\n",
    "papas_g1_completo_post.to_csv('../Data/precio_petroleo_cantidad/papas_g1_post.csv', index=False)\n",
    "\n",
    "papas_g2_completo_pre = papas_g2_completo[(\n",
    "    papas_g2_completo['dates'] >= '2015-01-01') & (papas_g2_completo['dates'] < '2020-01-01')]\n",
    "\n",
    "papas_g2_completo_post = papas_g2_completo[papas_g2_completo['dates'] >= '2020-01-01']\n",
    "\n",
    "papas_g2_completo_pre.to_csv('../Data/precio_petroleo_cantidad/papas_g2_pre.csv', index=False)\n",
    "papas_g2_completo_post.to_csv('../Data/precio_petroleo_cantidad/papas_g2_post.csv', index=False)\n",
    "\n",
    "# Petroleo\n",
    "index_pre = pd.DatetimeIndex(pd.date_range('2015-01-01','2019-12-31'))\n",
    "index_post = pd.DatetimeIndex(pd.date_range('2020-01-01','2022-08-31'))\n",
    "\n",
    "petroleo_pre = petroleo[(\n",
    "    petroleo['date'] >= '2015-01-01') & (petroleo['date'] < '2020-01-01')]\n",
    "petroleo_pre = petroleo_pre.set_index('date').reindex(index_pre, fill_value=0).reset_index()\n",
    "petroleo_pre['precio'] = petroleo_pre['precio'].replace(to_replace=0, method='ffill')\n",
    "\n",
    "petroleo_post = petroleo[petroleo['date'] >= '2020-01-01']\n",
    "petroleo_post = petroleo_post.set_index('date').reindex(index_post, fill_value=0).reset_index()\n",
    "petroleo_post['precio'] = petroleo_post['precio'].replace(to_replace=0, method='ffill')\n",
    "\n",
    "petroleo_pre.to_csv('../Data/precio_petroleo_cantidad/petroleo_pre.csv', index=False)\n",
    "petroleo_post.to_csv('../Data/precio_petroleo_cantidad/petroleo_post.csv', index=False)\n",
    "\n",
    "# Cantidad\n",
    "papas_procedencia_g1_total = papas_procedencia_g1[['date','cantidad (TM)']].groupby('date').sum().reset_index()\n",
    "\n",
    "papas_procedencia_g1_total_pre = papas_procedencia_g1_total[(\n",
    "    papas_procedencia_g1_total['date'] >= '2015-01-01') & (papas_procedencia_g1_total['date'] < '2020-01-01')]\n",
    "\n",
    "papas_procedencia_g1_total_post = papas_procedencia_g1_total[papas_procedencia_g1_total['date'] >= '2020-01-01']\n",
    "\n",
    "papas_procedencia_g1_total_pre.to_csv('../Data/precio_petroleo_cantidad/papas_procedencia_g1_total_pre.csv', index=False)\n",
    "papas_procedencia_g1_total_post.to_csv('../Data/precio_petroleo_cantidad/papas_procedencia_g1_total_post.csv', index=False)\n",
    "\n",
    "papas_procedencia_g2_total = papas_procedencia_g2[['date','cantidad (TM)']].groupby('date').sum().reset_index()\n",
    "\n",
    "papas_procedencia_g2_total_pre = papas_procedencia_g2_total[(\n",
    "    papas_procedencia_g2_total['date'] >= '2015-01-01') & (papas_procedencia_g2_total['date'] < '2020-01-01')]\n",
    "\n",
    "papas_procedencia_g2_total_post = papas_procedencia_g2_total[papas_procedencia_g2_total['date'] >= '2020-01-01']\n",
    "\n",
    "papas_procedencia_g2_total_pre.to_csv('../Data/precio_petroleo_cantidad/papas_procedencia_g2_total_pre.csv', index=False)\n",
    "papas_procedencia_g2_total_post.to_csv('../Data/precio_petroleo_cantidad/papas_procedencia_g2_total_post.csv', index=False)\n"
   ]
  },
  {
   "cell_type": "markdown",
   "metadata": {},
   "source": [
    "# Precio + Petroleo + Ingreso Junin + Temperatura Junin"
   ]
  },
  {
   "cell_type": "code",
   "execution_count": 206,
   "metadata": {},
   "outputs": [],
   "source": [
    "# Precio\n",
    "papas_g1_completo_pre = papas_g1_completo[(\n",
    "    papas_g1_completo['dates'] >= '2018-01-01') & (papas_g1_completo['dates'] < '2020-01-01')]\n",
    "\n",
    "papas_g1_completo_post = papas_g1_completo[papas_g1_completo['dates'] >= '2020-01-01']\n",
    "\n",
    "papas_g1_completo_pre.to_csv('../Data/precio_petroleo_junin/papas_g1_pre.csv', index=False)\n",
    "papas_g1_completo_post.to_csv('../Data/precio_petroleo_junin/papas_g1_post.csv', index=False)\n",
    "\n",
    "papas_g2_completo_pre = papas_g2_completo[(\n",
    "    papas_g2_completo['dates'] >= '2018-01-01') & (papas_g2_completo['dates'] < '2020-01-01')]\n",
    "\n",
    "papas_g2_completo_post = papas_g2_completo[papas_g2_completo['dates'] >= '2020-01-01']\n",
    "\n",
    "papas_g2_completo_pre.to_csv('../Data/precio_petroleo_junin/papas_g2_pre.csv', index=False)\n",
    "papas_g2_completo_post.to_csv('../Data/precio_petroleo_junin/papas_g2_post.csv', index=False)\n",
    "\n",
    "# Petroleo\n",
    "index_pre = pd.DatetimeIndex(pd.date_range('2018-01-01','2019-12-31'))\n",
    "index_post = pd.DatetimeIndex(pd.date_range('2020-01-01','2022-08-31'))\n",
    "\n",
    "petroleo_pre = petroleo[(\n",
    "    petroleo['date'] >= '2018-01-01') & (petroleo['date'] < '2020-01-01')]\n",
    "petroleo_pre = petroleo_pre.set_index('date').reindex(index_pre, fill_value=0).reset_index()\n",
    "petroleo_pre['precio'] = petroleo_pre['precio'].replace(to_replace=0, method='ffill')\n",
    "\n",
    "petroleo_post = petroleo[petroleo['date'] >= '2020-01-01']\n",
    "petroleo_post = petroleo_post.set_index('date').reindex(index_post, fill_value=0).reset_index()\n",
    "petroleo_post['precio'] = petroleo_post['precio'].replace(to_replace=0, method='ffill')\n",
    "\n",
    "petroleo_pre.to_csv('../Data/precio_petroleo_junin/petroleo_pre.csv', index=False)\n",
    "petroleo_post.to_csv('../Data/precio_petroleo_junin/petroleo_post.csv', index=False)\n",
    "\n",
    "# Cantidad Junin\n",
    "\n",
    "dataProcedenciaJunin_g1_pre = dataProcedenciaJunin_g1[(\n",
    "    dataProcedenciaJunin_g1['date'] >= '2018-01-01') & (dataProcedenciaJunin_g1['date'] < '2020-01-01')]\n",
    "\n",
    "dataProcedenciaJunin_g1_post = dataProcedenciaJunin_g1[dataProcedenciaJunin_g1['date'] >= '2020-01-01']\n",
    "\n",
    "dataProcedenciaJunin_g1_pre.to_csv('../Data/precio_petroleo_junin/cantidad_junin_g1_pre.csv', index=False)\n",
    "dataProcedenciaJunin_g1_post.to_csv('../Data/precio_petroleo_junin/cantidad_junin_g1_post.csv', index=False)\n",
    "\n",
    "dataProcedenciaJunin_g2_pre = dataProcedenciaJunin_g2[(\n",
    "    dataProcedenciaJunin_g2['date'] >= '2018-01-01') & (dataProcedenciaJunin_g2['date'] < '2020-01-01')]\n",
    "\n",
    "dataProcedenciaJunin_g2_post = dataProcedenciaJunin_g2[dataProcedenciaJunin_g2['date'] >= '2020-01-01']\n",
    "\n",
    "dataProcedenciaJunin_g2_pre.to_csv('../Data/precio_petroleo_junin/cantidad_junin_g2_pre.csv', index=False)\n",
    "dataProcedenciaJunin_g2_post.to_csv('../Data/precio_petroleo_junin/cantidad_junin_g2_post.csv', index=False)\n",
    "\n",
    "# Temperatura Junin\n",
    "temperatura_junin = temperatura[temperatura['DEPARTAMENTO'] == 'JUNIN'][['FECHA','TEMPERATURA']]\n",
    "temperatura_junin['FECHA'] = pd.to_datetime(temperatura_junin['FECHA'], format='%Y-%m-%d')\n",
    "temperatura_junin = temperatura_junin[temperatura_junin['TEMPERATURA'] != 'S/D']\n",
    "temperatura_junin['TEMPERATURA'] = temperatura_junin['TEMPERATURA'].astype(float)\n",
    "temperatura_junin = temperatura_junin.groupby('FECHA').mean().reset_index()\n",
    "\n",
    "temperatura_junin_pre = temperatura_junin[(\n",
    "    temperatura_junin['FECHA'] >= '2018-01-01') & (temperatura_junin['FECHA'] < '2020-01-01')]\n",
    "\n",
    "temperatura_junin_post = temperatura_junin[temperatura_junin['FECHA'] >= '2020-01-01']\n",
    "\n",
    "temperatura_junin_pre.to_csv('../Data/precio_petroleo_junin/temperatura_junin_pre.csv', index=False)\n",
    "temperatura_junin_post.to_csv('../Data/precio_petroleo_junin/temperatura_junin_post.csv', index=False)"
   ]
  }
 ],
 "metadata": {
  "kernelspec": {
   "display_name": "Python 3.8.9 64-bit",
   "language": "python",
   "name": "python3"
  },
  "language_info": {
   "codemirror_mode": {
    "name": "ipython",
    "version": 3
   },
   "file_extension": ".py",
   "mimetype": "text/x-python",
   "name": "python",
   "nbconvert_exporter": "python",
   "pygments_lexer": "ipython3",
   "version": "3.8.9"
  },
  "orig_nbformat": 4,
  "vscode": {
   "interpreter": {
    "hash": "31f2aee4e71d21fbe5cf8b01ff0e069b9275f58929596ceb00d14d90e3e16cd6"
   }
  }
 },
 "nbformat": 4,
 "nbformat_minor": 2
}
