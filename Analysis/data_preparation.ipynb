{
 "cells": [
  {
   "cell_type": "code",
   "execution_count": 106,
   "metadata": {},
   "outputs": [],
   "source": [
    "import pandas as pd"
   ]
  },
  {
   "cell_type": "code",
   "execution_count": 107,
   "metadata": {},
   "outputs": [],
   "source": [
    "papas_g1 = pd.read_csv('../Data/papas_g1_diaria.csv')\n",
    "papas_g2 = pd.read_csv('../Data/papas_g2_diaria.csv')\n",
    "\n",
    "papas_procedencia_g1 = pd.read_csv('../Data/papas_procedencia_g1_diaria.csv')\n",
    "papas_procedencia_g2 = pd.read_csv('../Data/papas_procedencia_g2_diaria.csv')\n",
    "\n",
    "petroleo = pd.read_csv('../Data/precio_petroleo_diario.csv')\n",
    "\n",
    "temperatura = pd.read_csv('../Data/temperatura_automatico.csv')"
   ]
  },
  {
   "cell_type": "code",
   "execution_count": 108,
   "metadata": {},
   "outputs": [],
   "source": [
    "dataProcedenciaJunin_g1 = papas_procedencia_g1[papas_procedencia_g1[\"procedencia\"] == \"JUNIN\"][[\"cantidad (TM)\", \"date\"]]\n",
    "dataProcedenciaJunin_g1[\"date\"] = pd.to_datetime(dataProcedenciaJunin_g1[\"date\"], format=\"%Y-%m-%d\")\n",
    "dataProcedenciaJunin_g1 = dataProcedenciaJunin_g1.groupby('date').sum().reset_index()\n",
    "\n",
    "dataProcedenciaJunin_g2 = papas_procedencia_g2[papas_procedencia_g2[\"procedencia\"] == \"JUNIN\"][[\"cantidad (TM)\", \"date\"]]\n",
    "dataProcedenciaJunin_g2[\"date\"] = pd.to_datetime(dataProcedenciaJunin_g2[\"date\"], format=\"%Y-%m-%d\")\n",
    "dataProcedenciaJunin_g2 = dataProcedenciaJunin_g2.groupby('date').sum().reset_index()\n",
    "\n",
    "papas_g1[\"date\"] = pd.to_datetime(papas_g1[\"date\"], format=\"%Y-%m-%d\")\n",
    "papas_g2[\"date\"] = pd.to_datetime(papas_g2[\"date\"], format=\"%Y-%m-%d\")\n"
   ]
  },
  {
   "cell_type": "code",
   "execution_count": 109,
   "metadata": {},
   "outputs": [],
   "source": [
    "papas_g1 = papas_g1[['producto','precio_mean','date']]\n",
    "papas_g2 = papas_g2[['producto','precio_mean','date']]"
   ]
  },
  {
   "cell_type": "code",
   "execution_count": 110,
   "metadata": {},
   "outputs": [],
   "source": [
    "dates = pd.DataFrame(papas_g1['date'].unique(), columns=['date']).set_index('date').resample('D').asfreq().index\n",
    "productos = papas_g1['producto'].unique()\n",
    "idx = pd.MultiIndex.from_product((dates, productos), names=['dates', 'producto'])\n",
    "papas_g1_completo = papas_g1.set_index(['date', 'producto']).reindex(idx, fill_value=0).reset_index()\n",
    "papas_g1_completo['precio_mean'] = papas_g1_completo['precio_mean'].replace(to_replace=0, method='ffill')\n",
    "\n",
    "dates = pd.DataFrame(papas_g2['date'].unique(), columns=['date']).set_index('date').resample('D').asfreq().index\n",
    "productos = papas_g2['producto'].unique()\n",
    "idx = pd.MultiIndex.from_product((dates, productos), names=['dates', 'producto'])\n",
    "papas_g2_completo = papas_g2.set_index(['date', 'producto']).reindex(idx, fill_value=0).reset_index()\n",
    "papas_g2_completo['precio_mean'] = papas_g2_completo['precio_mean'].replace(to_replace=0, method='ffill')"
   ]
  },
  {
   "cell_type": "code",
   "execution_count": 117,
   "metadata": {},
   "outputs": [],
   "source": [
    "papas_g1_completo.to_csv('../Data/Processed/papas_g1.csv', index=False)\n",
    "papas_g2_completo.to_csv('../Data/Processed/papas_g2.csv', index=False)\n",
    "\n",
    "dataProcedenciaJunin_g1.to_csv('../Data/Processed/procedencia_g1.csv', index=False)\n",
    "dataProcedenciaJunin_g2.to_csv('../Data/Processed/procedencia_g2.csv', index=False)"
   ]
  },
  {
   "cell_type": "code",
   "execution_count": 120,
   "metadata": {},
   "outputs": [
    {
     "data": {
      "text/html": [
       "<div>\n",
       "<style scoped>\n",
       "    .dataframe tbody tr th:only-of-type {\n",
       "        vertical-align: middle;\n",
       "    }\n",
       "\n",
       "    .dataframe tbody tr th {\n",
       "        vertical-align: top;\n",
       "    }\n",
       "\n",
       "    .dataframe thead th {\n",
       "        text-align: right;\n",
       "    }\n",
       "</style>\n",
       "<table border=\"1\" class=\"dataframe\">\n",
       "  <thead>\n",
       "    <tr style=\"text-align: right;\">\n",
       "      <th></th>\n",
       "      <th>cantidad (TM)</th>\n",
       "    </tr>\n",
       "    <tr>\n",
       "      <th>date</th>\n",
       "      <th></th>\n",
       "    </tr>\n",
       "  </thead>\n",
       "  <tbody>\n",
       "    <tr>\n",
       "      <th>2015-01-01</th>\n",
       "      <td>0</td>\n",
       "    </tr>\n",
       "    <tr>\n",
       "      <th>2015-01-02</th>\n",
       "      <td>0</td>\n",
       "    </tr>\n",
       "    <tr>\n",
       "      <th>2015-01-03</th>\n",
       "      <td>0</td>\n",
       "    </tr>\n",
       "    <tr>\n",
       "      <th>2015-01-04</th>\n",
       "      <td>0</td>\n",
       "    </tr>\n",
       "    <tr>\n",
       "      <th>2015-01-05</th>\n",
       "      <td>10</td>\n",
       "    </tr>\n",
       "    <tr>\n",
       "      <th>...</th>\n",
       "      <td>...</td>\n",
       "    </tr>\n",
       "    <tr>\n",
       "      <th>2022-08-27</th>\n",
       "      <td>132</td>\n",
       "    </tr>\n",
       "    <tr>\n",
       "      <th>2022-08-28</th>\n",
       "      <td>51</td>\n",
       "    </tr>\n",
       "    <tr>\n",
       "      <th>2022-08-29</th>\n",
       "      <td>0</td>\n",
       "    </tr>\n",
       "    <tr>\n",
       "      <th>2022-08-30</th>\n",
       "      <td>0</td>\n",
       "    </tr>\n",
       "    <tr>\n",
       "      <th>2022-08-31</th>\n",
       "      <td>0</td>\n",
       "    </tr>\n",
       "  </tbody>\n",
       "</table>\n",
       "<p>2800 rows × 1 columns</p>\n",
       "</div>"
      ],
      "text/plain": [
       "            cantidad (TM)\n",
       "date                     \n",
       "2015-01-01              0\n",
       "2015-01-02              0\n",
       "2015-01-03              0\n",
       "2015-01-04              0\n",
       "2015-01-05             10\n",
       "...                   ...\n",
       "2022-08-27            132\n",
       "2022-08-28             51\n",
       "2022-08-29              0\n",
       "2022-08-30              0\n",
       "2022-08-31              0\n",
       "\n",
       "[2800 rows x 1 columns]"
      ]
     },
     "execution_count": 120,
     "metadata": {},
     "output_type": "execute_result"
    }
   ],
   "source": [
    "dataProcedenciaJunin_g1"
   ]
  },
  {
   "cell_type": "code",
   "execution_count": 113,
   "metadata": {},
   "outputs": [
    {
     "data": {
      "text/html": [
       "<div>\n",
       "<style scoped>\n",
       "    .dataframe tbody tr th:only-of-type {\n",
       "        vertical-align: middle;\n",
       "    }\n",
       "\n",
       "    .dataframe tbody tr th {\n",
       "        vertical-align: top;\n",
       "    }\n",
       "\n",
       "    .dataframe thead th {\n",
       "        text-align: right;\n",
       "    }\n",
       "</style>\n",
       "<table border=\"1\" class=\"dataframe\">\n",
       "  <thead>\n",
       "    <tr style=\"text-align: right;\">\n",
       "      <th></th>\n",
       "      <th>dates</th>\n",
       "      <th>producto</th>\n",
       "      <th>precio_mean</th>\n",
       "    </tr>\n",
       "  </thead>\n",
       "  <tbody>\n",
       "    <tr>\n",
       "      <th>0</th>\n",
       "      <td>2013-12-01</td>\n",
       "      <td>PAPA AMARILLA</td>\n",
       "      <td>1.53</td>\n",
       "    </tr>\n",
       "    <tr>\n",
       "      <th>1</th>\n",
       "      <td>2013-12-01</td>\n",
       "      <td>PAPA HUAYRO (ROJO-MORO-NEGRO)RUNT/MARH/U</td>\n",
       "      <td>1.64</td>\n",
       "    </tr>\n",
       "    <tr>\n",
       "      <th>2</th>\n",
       "      <td>2013-12-01</td>\n",
       "      <td>PAPA HUAMANTANGA</td>\n",
       "      <td>1.24</td>\n",
       "    </tr>\n",
       "    <tr>\n",
       "      <th>3</th>\n",
       "      <td>2013-12-01</td>\n",
       "      <td>PAPA PERUANITA (INJERTO)</td>\n",
       "      <td>1.34</td>\n",
       "    </tr>\n",
       "    <tr>\n",
       "      <th>4</th>\n",
       "      <td>2013-12-02</td>\n",
       "      <td>PAPA AMARILLA</td>\n",
       "      <td>1.55</td>\n",
       "    </tr>\n",
       "  </tbody>\n",
       "</table>\n",
       "</div>"
      ],
      "text/plain": [
       "       dates                                  producto  precio_mean\n",
       "0 2013-12-01                             PAPA AMARILLA         1.53\n",
       "1 2013-12-01  PAPA HUAYRO (ROJO-MORO-NEGRO)RUNT/MARH/U         1.64\n",
       "2 2013-12-01                          PAPA HUAMANTANGA         1.24\n",
       "3 2013-12-01                  PAPA PERUANITA (INJERTO)         1.34\n",
       "4 2013-12-02                             PAPA AMARILLA         1.55"
      ]
     },
     "execution_count": 113,
     "metadata": {},
     "output_type": "execute_result"
    }
   ],
   "source": [
    "papas_g1_completo.head()"
   ]
  }
 ],
 "metadata": {
  "kernelspec": {
   "display_name": "Python 3.10.0 64-bit",
   "language": "python",
   "name": "python3"
  },
  "language_info": {
   "codemirror_mode": {
    "name": "ipython",
    "version": 3
   },
   "file_extension": ".py",
   "mimetype": "text/x-python",
   "name": "python",
   "nbconvert_exporter": "python",
   "pygments_lexer": "ipython3",
   "version": "3.10.0"
  },
  "orig_nbformat": 4,
  "vscode": {
   "interpreter": {
    "hash": "8a2ab109794a070699f2cf1318c48d233f9779cbb0346dfb8c7ef0e163b30073"
   }
  }
 },
 "nbformat": 4,
 "nbformat_minor": 2
}
