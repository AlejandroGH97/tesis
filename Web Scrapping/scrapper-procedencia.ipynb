{
 "cells": [
  {
   "cell_type": "code",
   "execution_count": 82,
   "metadata": {},
   "outputs": [],
   "source": [
    "import requests\n",
    "import re\n",
    "import json\n",
    "from csv import writer \n",
    "from io import StringIO\n",
    "from calendar import monthrange\n"
   ]
  },
  {
   "cell_type": "code",
   "execution_count": 7,
   "metadata": {},
   "outputs": [],
   "source": [
    "url = \"http://old.emmsa.com.pe/emmsa_spv/app/reportes/ajax/rpt06_getgraph.php\"\n",
    "papas = [\n",
    "    \"01|PAPA AMARILLA\",\n",
    "    \"02|PAPA BLANCA/VALLE/OTROS\",\n",
    "    \"03|PAPA COLOR/VALLE/OTROS\",\n",
    "    \"04|PAPA HUAYRO (ROJO-MORO-NEGRO)RUNT/MARH/U\",\n",
    "\t\t\"05|IMPORTADA (AMARILLA/BLANCA/COLOR)\",\n",
    "\t\t\"06|PAPA HUAMANTANGA\",\n",
    "\t\t\"07|PAPA NEGRA ANDINA\",\n",
    "\t\t\"08|PAPA TOMASA\",\n",
    "\t\t\"09|PAPA PERUANITA (INJERTO)\",\n",
    "\t\t\"10|PAPA PERRICHOLI\",\n",
    "\t\t\"11|PAPA YUNGAY\",\n",
    "\t\t\"12|PAPA CAPIRO\",\n",
    "\t\t\"13|PAPA UNICA\",\n",
    "\t\t\"14|PAPA LENGUA\",\n",
    "\t\t\"15|PAPA LIBERTEÑA\",\n",
    "\t\t\"16|PAPA NEGRA VIUDA\",\n",
    "\t\t\"17|PAPA CANCHAN\",\n",
    "\t\t\"18|PAPA AMARILIS\",\n",
    "\t\t\"19|PAPA NATIVA QEQORANI\",\n",
    "\t\t\"20|PAPA NATIVA PUCA SHONGO\",\n",
    "\t\t\"21|PAPA NATIVA LEONA\",\n",
    "\t\t\"22|PAPA NATIVA SANGRE DE TORO\",\n",
    "\t\t\"23|PAPA NATIVA NATIVA MIX\",\n",
    "\t\t\"24|PAPA NATIVA SANTO DOMINGO\",\n",
    "\t\t\"25|PAPA NATIVA HUAYRO MACHO\",\n",
    "\t\t\"26|PAPA NATIVA RITI SISA\",\n",
    "\t\t\"27|PAPA NATIVA SUMACC SONCCO\",\n",
    "\t\t\"28|PAPA NATIVA WENCCOS\",\n",
    "\t\t\"29|PAPA MAMA LUCHA\",\n",
    "\t\t\"30|PAPA HUEVO DE INDIO\",\n",
    "\t\t\"31|PAPA BELLA\"\n",
    "]"
   ]
  },
  {
   "cell_type": "code",
   "execution_count": 13,
   "metadata": {},
   "outputs": [],
   "source": [
    "def queryString(papa, yearData, month):\n",
    "    formattedMonth = str(month)\n",
    "    if month < 10:\n",
    "        formattedMonth = \"0\" + formattedMonth\n",
    "    return (\n",
    "        \"prod=38|PAPA&var={varPapa}&ser=d&ano={year}&mes={month}\".format(\n",
    "            varPapa=papa, year=str(yearData), month=formattedMonth\n",
    "        )\n",
    "    )\n"
   ]
  },
  {
   "cell_type": "code",
   "execution_count": 84,
   "metadata": {},
   "outputs": [],
   "source": [
    "from types import NoneType\n",
    "\n",
    "reg = re.compile(\"(?<=series: ).*(?=]}])\")\n",
    "\n",
    "output = StringIO()\n",
    "csv_writer = writer(output)\n",
    "\n",
    "csv_writer.writerow(\n",
    "    [\"producto\", \"procedencia\", \"year\", \"month\", \"day\", \"cantidad (TM)\"]\n",
    ")\n",
    "\n",
    "for papa in papas:\n",
    "    for year in range(2015, 2023):\n",
    "        for month in range(1, 13):\n",
    "            response = requests.post(\n",
    "                url,\n",
    "                headers={\n",
    "                    \"Content-Type\": \"application/x-www-form-urlencoded; charset=UTF-8\"\n",
    "                },\n",
    "                data=queryString(papa, year, month),\n",
    "            )\n",
    "            body = response.text\n",
    "\n",
    "            try:\n",
    "                for entry in json.loads(reg.search(body).group(0) + \"]}]\"):\n",
    "                    for day in range(len(entry[\"data\"])):\n",
    "                        csv_writer.writerow(\n",
    "                            [\n",
    "                                papa[3:],\n",
    "                                entry[\"name\"],\n",
    "                                year,\n",
    "                                month,\n",
    "                                day + 1,\n",
    "                                entry[\"data\"][day],\n",
    "                            ]\n",
    "                        )\n",
    "            except:\n",
    "                continue\n"
   ]
  },
  {
   "cell_type": "code",
   "execution_count": 85,
   "metadata": {},
   "outputs": [],
   "source": [
    "output.seek(0)\n",
    "with open('test.csv', mode='w') as f:\n",
    "    for line in output.getvalue().split('\\n'):\n",
    "        f.write(line)"
   ]
  },
  {
   "cell_type": "code",
   "execution_count": 83,
   "metadata": {},
   "outputs": [
    {
     "data": {
      "text/plain": [
       "31"
      ]
     },
     "execution_count": 83,
     "metadata": {},
     "output_type": "execute_result"
    }
   ],
   "source": []
  }
 ],
 "metadata": {
  "kernelspec": {
   "display_name": "Python 3.10.0 64-bit",
   "language": "python",
   "name": "python3"
  },
  "language_info": {
   "codemirror_mode": {
    "name": "ipython",
    "version": 3
   },
   "file_extension": ".py",
   "mimetype": "text/x-python",
   "name": "python",
   "nbconvert_exporter": "python",
   "pygments_lexer": "ipython3",
   "version": "3.10.0"
  },
  "orig_nbformat": 4,
  "vscode": {
   "interpreter": {
    "hash": "8a2ab109794a070699f2cf1318c48d233f9779cbb0346dfb8c7ef0e163b30073"
   }
  }
 },
 "nbformat": 4,
 "nbformat_minor": 2
}
