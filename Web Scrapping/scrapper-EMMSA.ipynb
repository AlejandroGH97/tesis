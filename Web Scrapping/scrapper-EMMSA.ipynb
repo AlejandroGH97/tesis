{
 "cells": [
  {
   "cell_type": "code",
   "execution_count": 1,
   "metadata": {},
   "outputs": [],
   "source": [
    "from selenium import webdriver\n",
    "from webdriver_manager.chrome import ChromeDriverManager\n",
    "from selenium.webdriver.common.by import By\n"
   ]
  },
  {
   "cell_type": "code",
   "execution_count": 2,
   "metadata": {},
   "outputs": [],
   "source": [
    "from bs4 import BeautifulSoup as bs\n",
    "import time\n",
    "import pandas as pd\n",
    "from io import StringIO\n",
    "from csv import writer \n",
    "import datetime as dt"
   ]
  },
  {
   "cell_type": "code",
   "execution_count": 3,
   "metadata": {},
   "outputs": [
    {
     "name": "stdout",
     "output_type": "stream",
     "text": [
      "\n"
     ]
    },
    {
     "name": "stderr",
     "output_type": "stream",
     "text": [
      "[WDM] - ====== WebDriver manager ======\n",
      "[WDM] - Current google-chrome version is 104.0.5112\n",
      "[WDM] - Get LATEST chromedriver version for 104.0.5112 google-chrome\n",
      "[WDM] - There is no [win32] chromedriver for browser 104.0.5112 in cache\n",
      "[WDM] - About to download new driver from https://chromedriver.storage.googleapis.com/104.0.5112.79/chromedriver_win32.zip\n",
      "[WDM] - Driver has been saved in cache [C:\\Users\\Panflete\\.wdm\\drivers\\chromedriver\\win32\\104.0.5112.79]\n",
      "C:\\Users\\Panflete\\AppData\\Local\\Temp\\ipykernel_36808\\1503906442.py:1: DeprecationWarning: executable_path has been deprecated, please pass in a Service object\n",
      "  driver = webdriver.Chrome(ChromeDriverManager().install())\n"
     ]
    }
   ],
   "source": [
    "driver = webdriver.Chrome(ChromeDriverManager().install())"
   ]
  },
  {
   "cell_type": "code",
   "execution_count": 4,
   "metadata": {},
   "outputs": [],
   "source": [
    "url = \"http://old.emmsa.com.pe/emmsa_spv/rpEstadistica/rptVolPreciosDiarios.php\"\n",
    "driver.get(url)"
   ]
  },
  {
   "cell_type": "code",
   "execution_count": 5,
   "metadata": {},
   "outputs": [],
   "source": [
    "frame = driver.find_element(by=By.XPATH,value=\"/html/body/div/div/section/div/div/div/section/div/div/div/iframe\")"
   ]
  },
  {
   "cell_type": "code",
   "execution_count": 6,
   "metadata": {},
   "outputs": [],
   "source": [
    "driver.switch_to.frame(frame)"
   ]
  },
  {
   "cell_type": "code",
   "execution_count": 7,
   "metadata": {},
   "outputs": [],
   "source": [
    "dateInput = driver.find_element(By.XPATH,\"/html/body/div[1]/div[2]/div[2]/div/table/tbody/tr[1]/td[1]/div/div[2]/input\")"
   ]
  },
  {
   "cell_type": "code",
   "execution_count": 14,
   "metadata": {},
   "outputs": [],
   "source": [
    "checkCebolla = driver.find_element(By.ID,14)\n",
    "checkCebolla.click()\n",
    "checkCebolla = driver.find_element(By.ID,38)\n",
    "checkCebolla.click()"
   ]
  },
  {
   "cell_type": "code",
   "execution_count": 15,
   "metadata": {},
   "outputs": [],
   "source": [
    "consultarButton = driver.find_element(By.CLASS_NAME,\"button\")\n",
    "consultarButton.click()"
   ]
  },
  {
   "cell_type": "code",
   "execution_count": 17,
   "metadata": {},
   "outputs": [],
   "source": [
    "output = StringIO()\n",
    "csv_writer = writer(output)\n",
    "\n",
    "csv_writer.writerow([\"producto\",\"year\",\"month\",\"day\", \"precio_min\", \"precio_max\", \"precio_mean\"])\n",
    "\n",
    "endDate = dt.date(2022,8,30)\n",
    "currentDate = dt.date(2022,5,1)\n",
    "while endDate >= currentDate:\n",
    "\tdateInput.clear()\n",
    "\tdateInput.send_keys(\"value\",currentDate.strftime(\"%d/%m/%Y\"))\n",
    "\n",
    "\tconsultarButton = driver.find_element(By.CLASS_NAME,\"button\")\n",
    "\tconsultarButton.click()\n",
    "\ttable = None\n",
    "\twhile(table == None):\n",
    "\t\ttable = bs(driver.page_source).find(\"table\", {\"class\":\"timecard\"})\n",
    "\n",
    "\tbody = table.find(\"tbody\")\n",
    "\tfor row in body.find_all(\"tr\"):\n",
    "\t\tnew_row = [str(col).replace(\"<td>\",\"\").replace(\"</td>\",\"\") for col in row.findAll(\"td\")[1:]]\n",
    "\t\tnew_row.insert(1,str(currentDate.day))\n",
    "\t\tnew_row.insert(1,str(currentDate.month))\n",
    "\t\tnew_row.insert(1,str(currentDate.year))\n",
    "\t\tcsv_writer.writerow(new_row)\n",
    "\tcurrentDate -= dt.timedelta(days=1)"
   ]
  },
  {
   "cell_type": "code",
   "execution_count": 76,
   "metadata": {},
   "outputs": [],
   "source": [
    "output.seek(0)\n",
    "data = pd.read_csv(output)"
   ]
  },
  {
   "cell_type": "code",
   "execution_count": 77,
   "metadata": {},
   "outputs": [],
   "source": [
    "data.to_csv(\"./data2.csv\",index=False)"
   ]
  }
 ],
 "metadata": {
  "interpreter": {
   "hash": "8a2ab109794a070699f2cf1318c48d233f9779cbb0346dfb8c7ef0e163b30073"
  },
  "kernelspec": {
   "display_name": "Python 3.10.0 64-bit",
   "language": "python",
   "name": "python3"
  },
  "language_info": {
   "codemirror_mode": {
    "name": "ipython",
    "version": 3
   },
   "file_extension": ".py",
   "mimetype": "text/x-python",
   "name": "python",
   "nbconvert_exporter": "python",
   "pygments_lexer": "ipython3",
   "version": "3.10.0"
  },
  "orig_nbformat": 4
 },
 "nbformat": 4,
 "nbformat_minor": 2
}
